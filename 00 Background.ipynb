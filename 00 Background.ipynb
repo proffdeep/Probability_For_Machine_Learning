{
 "cells": [
  {
   "cell_type": "markdown",
   "metadata": {},
   "source": [
    "# Probability"
   ]
  },
  {
   "cell_type": "markdown",
   "metadata": {},
   "source": [
    "**Probability is a measure that quantifies the likelihood that an event will occur.**\n",
    "\n",
    "There are two main ways of interpreting or thinking about probability. \n",
    "\n",
    "- The perhaps simpler approach is to consider probability as the actual likelihood of an event, called the **Frequentist probability**.\n",
    "\n",
    "- Another approach is to consider probability a notion of how strongly it is believed the event will occur, called **Bayesian probability**.\n",
    "\n",
    "#### Frequentist Probability\n",
    "\n",
    ">The frequentist approach to probability is objective. Events are observed and counted, and their\n",
    "frequencies provide the basis for directly calculating a probability, hence the name frequentist.\n",
    "\n",
    ">Probability theory was originally developed to analyze the frequencies of events.\n",
    "\n",
    ">Methods from frequentist probability include p-values and confidence intervals used in\n",
    "statistical inference and maximum likelihood estimation for parameter estimation.\n",
    "\n",
    "\n",
    "#### Bayesian Probability\n",
    "\n",
    ">The Bayesian approach to probability is subjective. Probabilities are assigned to events based on\n",
    "evidence and personal belief and are centered around Bayes' theorem, hence the name Bayesian.\n",
    "This allows probabilities to be assigned to very infrequent events and events that have not been\n",
    "observed before, unlike frequentist probability.\n",
    "\n",
    ">One big advantage of the Bayesian interpretation is that it can be used to model\n",
    "our uncertainty about events that do not have long term frequencies.\n",
    "\n",
    ">Methods from Bayesian probability include Bayes factors and credible interval for inference\n",
    "and Bayes estimator and maximum a posteriori estimation for parameter estimation."
   ]
  },
  {
   "cell_type": "markdown",
   "metadata": {},
   "source": [
    "## Joint, Marginal, and Conditional Probability"
   ]
  },
  {
   "cell_type": "markdown",
   "metadata": {},
   "source": [
    "- **Joint probability** is the probability of two or more events occurring simultaneously.\n",
    "\n",
    "- **Marginal probability** is the probability of an event irrespective of the outcome of other variables.\n",
    "\n",
    "- **Conditional probability** is the probability of one event occurring in the presence of one or more other events."
   ]
  },
  {
   "cell_type": "markdown",
   "metadata": {},
   "source": [
    "The probability of a row of data is the joint probability across each input variable.\n",
    "> The probability of a specific value of one input variable is the marginal probability across\n",
    "the values of the other input variables.\n",
    "\n",
    "> The predictive model itself is an estimate of the conditional probability of an output given\n",
    "an input example.\n",
    "\n",
    ">`P(A and B) = P(A | B) * P(B)`\n",
    "\n",
    ">The joint probability\n",
    "is symmetrical, meaning that P(A and B) is the same as P(B and A).\n",
    "\n",
    "> The calculation of the joint probability is sometimes called the fundamental rule of probability\n",
    "or the product rule of probability."
   ]
  },
  {
   "cell_type": "markdown",
   "metadata": {},
   "source": [
    "- The probability of one event in the presence of all (or a subset of) outcomes of the other random variable is called the marginal probability or the marginal distribution.\n",
    "\n",
    ">P(X = A) = SUMMITION P(X = A; Y = y)\n",
    "\n",
    ">This is another important foundational rule in probability, referred to as the sum rule.\n",
    "\n",
    "- **Joint Probability**: The probability of simultaneous events.\n",
    "- **Marginal Probability**: The probability of an event irrespective of the other variables.\n",
    "- **Conditional Probability**: The probability of events given the presence of other events."
   ]
  },
  {
   "cell_type": "code",
   "execution_count": 1,
   "metadata": {},
   "outputs": [],
   "source": [
    "#________________________++++++++++++++===============------------#"
   ]
  },
  {
   "cell_type": "code",
   "execution_count": 2,
   "metadata": {},
   "outputs": [
    {
     "name": "stdout",
     "output_type": "stream",
     "text": [
      "FINISH ADVANCED PROBAB EXAMPLES\n"
     ]
    }
   ],
   "source": [
    "print(\"FINISH ADVANCED PROBAB EXAMPLES\")"
   ]
  },
  {
   "cell_type": "code",
   "execution_count": 3,
   "metadata": {},
   "outputs": [],
   "source": [
    "#++++++++++++++------------------=================================#"
   ]
  },
  {
   "cell_type": "markdown",
   "metadata": {},
   "source": [
    "### Distributions"
   ]
  },
  {
   "cell_type": "markdown",
   "metadata": {},
   "source": [
    "A discrete probability distribution summarizes the probabilities for a discrete random variable.\n",
    "The probability mass function, or PMF, defines the probability distribution for a discrete\n",
    "random variable. It is a function that assigns a probability for specific discrete values. A discrete\n",
    "probability distribution has a cumulative distribution function, or CDF. This is a function that\n",
    "assigns a probability that a discrete random variable will have a value of less than or equal to a\n",
    "specific discrete value.\n",
    "\n",
    "**Probability Mass Function**. Probability for a value for a discrete random variable.\n",
    "\n",
    "**Percent-Point Function**. returns a discrete value that is less than or equal to\n",
    "the given probability.\n",
    "\n",
    "The values of the random variable may or may not be ordinal, meaning they may or may\n",
    "not be ordered on a number line, e.g. counts can, car color cannot. In this case, the structure of\n",
    "the PMF and CDF may be discontinuous, or may not form a neat or clean transition in relative\n",
    "probabilities across values. The expected value for a discrete random variable can be calculated\n",
    "from a sample using the mode, e.g. finding the most common value. The sum of probabilities in\n",
    "the PMF equals to one.\n",
    "\n",
    "Some examples of well known discrete probability distributions include:\n",
    "- Bernoulli and binomial distributions.\n",
    "- Multinoulli and multinomial distributions.\n",
    "- Poisson distribution."
   ]
  },
  {
   "cell_type": "markdown",
   "metadata": {},
   "source": [
    "A continuous probability distribution summarizes the probability for a continuous random\n",
    "variable. The probability distribution function, or PDF, defines the probability distribution\n",
    "for a continuous random variable. Note the difference in the name from the discrete random\n",
    "variable that has a probability mass function, or PMF. Like a discrete probability distribution,\n",
    "the continuous probability distribution also has a cumulative distribution function, or CDF,\n",
    "that defines the probability of a value less than or equal to a specific numerical value from the\n",
    "domain.\n",
    "\n",
    "- Probability Distribution Function. Probability for a value for a continuous random variable.\n",
    "\n",
    "- Cumulative Distribution Function. Probability less than or equal to a value for a random variable."
   ]
  },
  {
   "cell_type": "markdown",
   "metadata": {},
   "source": [
    "## Discrete Probability Distributions"
   ]
  },
  {
   "cell_type": "markdown",
   "metadata": {},
   "source": [
    "There are many common discrete probability distributions. The most common are the\n",
    "Bernoulli and Multinoulli distributions for binary and categorical discrete random variables\n",
    "respectively, and the Binomial and Multinomial distributions that generalize each to multiple\n",
    "independent trials.\n",
    "- Binary Random Variable: Bernoulli Distribution.\n",
    "- Sequence of a Binary Random Variable: Binomial Distribution.\n",
    "- Categorical Random Variable: Multinoulli Distribution.\n",
    "- Sequence of a Categorical Random Variable: Multinomial Distribution."
   ]
  },
  {
   "cell_type": "markdown",
   "metadata": {},
   "source": [
    "#### 1. Bernoulli Distribution"
   ]
  },
  {
   "cell_type": "markdown",
   "metadata": {},
   "source": [
    "The Bernoulli distribution is a discrete probability distribution that covers a case where an\n",
    "event will have a binary outcome as either a 0 or 1.\n",
    "\n",
    "A Bernoulli trial is an experiment or case where the outcome follows a Bernoulli distribution.\n",
    "\n",
    "Bernoulli. Some\n",
    "common examples of Bernoulli trials include:\n",
    "> The single \n",
    "ip of a coin that may have a heads (0) or a tails (1) outcome.\n",
    "\n",
    "> A single birth of either a boy (0) or a girl (1).\n",
    "\n",
    "The distribution can be summarized\n",
    "by a single variable p that defines the probability of an outcome 1. Given this parameter, the\n",
    "probability for each event can be calculated as follows:\n",
    "\n",
    "- P(x = 1) = p\n",
    "- P(x = 0) = 1 - p"
   ]
  },
  {
   "cell_type": "markdown",
   "metadata": {},
   "source": [
    "### Binomial Distribution"
   ]
  },
  {
   "cell_type": "markdown",
   "metadata": {},
   "source": [
    "**The repetition of multiple independent Bernoulli trials is called a Bernoulli process**\n",
    "\n",
    "The\n",
    "outcomes of a Bernoulli process will follow a Binomial distribution. As such, the Bernoulli\n",
    "distribution would be a Binomial distribution with a single trial. Some common examples of\n",
    "Bernoulli processes include:\n",
    "- A sequence of independent coin fips.\n",
    "- A sequence of independent births."
   ]
  },
  {
   "cell_type": "code",
   "execution_count": 1,
   "metadata": {},
   "outputs": [],
   "source": [
    "import numpy as np"
   ]
  },
  {
   "cell_type": "code",
   "execution_count": 2,
   "metadata": {},
   "outputs": [
    {
     "name": "stdout",
     "output_type": "stream",
     "text": [
      "Total No. of Success: 25\n"
     ]
    }
   ],
   "source": [
    "# example of simulating a binomial process and counting success\n",
    "p = 0.3\n",
    "k = 100\n",
    "\n",
    "success = np.random.binomial(k,p)\n",
    "print(\"Total No. of Success:\",success)"
   ]
  },
  {
   "cell_type": "code",
   "execution_count": 3,
   "metadata": {},
   "outputs": [
    {
     "name": "stdout",
     "output_type": "stream",
     "text": [
      "Mean: 30.0\n",
      "Variance: 21.0\n",
      "skew: 0.08728715609439695\n",
      "Kurtosis: -0.012380952380952371\n"
     ]
    }
   ],
   "source": [
    "#finding the moments of a binomial distribution\n",
    "from scipy.stats import binom\n",
    "p = 0.3\n",
    "k = 100\n",
    "\n",
    "mean,var,skew,kurtosis = binom.stats(k,p,moments='mvsk')\n",
    "print(\"Mean:\",mean)\n",
    "print(\"Variance:\",var)\n",
    "print(\"skew:\",skew)\n",
    "print(\"Kurtosis:\",kurtosis)"
   ]
  },
  {
   "cell_type": "code",
   "execution_count": 4,
   "metadata": {},
   "outputs": [
    {
     "name": "stdout",
     "output_type": "stream",
     "text": [
      "P of 10 success: 0.000%\n",
      "P of 20 success: 0.758%\n",
      "P of 30 success: 8.678%\n",
      "P of 40 success: 0.849%\n",
      "P of 50 success: 0.001%\n",
      "P of 60 success: 0.000%\n",
      "P of 70 success: 0.000%\n",
      "P of 80 success: 0.000%\n",
      "P of 90 success: 0.000%\n",
      "P of 100 success: 0.000%\n"
     ]
    }
   ],
   "source": [
    "# example of using the pmf for the binomial distribution\n",
    "dist = binom(k,p)\n",
    "for n in range(10,110,10):\n",
    "    print('P of %d success: %.3f%%' % (n,dist.pmf(n)*100))"
   ]
  },
  {
   "cell_type": "code",
   "execution_count": null,
   "metadata": {},
   "outputs": [],
   "source": []
  },
  {
   "cell_type": "code",
   "execution_count": 5,
   "metadata": {},
   "outputs": [
    {
     "name": "stdout",
     "output_type": "stream",
     "text": [
      "P of 10 success: 0.000\n",
      "P of 20 success: 1.646\n",
      "P of 30 success: 54.912\n",
      "P of 40 success: 98.750\n",
      "P of 50 success: 99.999\n",
      "P of 60 success: 100.000\n",
      "P of 70 success: 100.000\n",
      "P of 80 success: 100.000\n",
      "P of 90 success: 100.000\n",
      "P of 100 success: 100.000\n"
     ]
    }
   ],
   "source": [
    "# example of using the cdf for the binomial distribution\n",
    "dist = binom(k, p)\n",
    "\n",
    "for n in range(10,110,10):\n",
    "    print(\"P of %d success: %.3f\" % (n,dist.cdf(n)*100))"
   ]
  },
  {
   "cell_type": "markdown",
   "metadata": {},
   "source": [
    "### Multinoulli Distribution"
   ]
  },
  {
   "cell_type": "markdown",
   "metadata": {},
   "source": [
    "**The Multinoulli distribution, also called the categorical distribution, covers the case where an\n",
    "event will have one of K possible outcomes.**\n",
    "\n",
    "> `x E {1,2,3...,K}`\n",
    "\n",
    "It is a generalization of the Bernoulli distribution from a binary variable to a categorical\n",
    "variable, where the number of cases K for the Bernoulli distribution is set to 2, K = 2. A\n",
    "common example that follows a Multinoulli distribution is:\n",
    "- A single roll of a die that will have an outcome in f1; 2; 3; 4; 5; 6g, e.g. K = 6."
   ]
  },
  {
   "cell_type": "markdown",
   "metadata": {},
   "source": [
    "### Multinomial Distribution\n",
    "\n",
    "**The repetition of multiple independent Multinoulli trials will follow a multinomial distribution.**\n",
    "The multinomial distribution is a generalization of the binomial distribution for a discrete variable\n",
    "with K outcomes. An example of a multinomial process includes a sequence of independent\n",
    "dice rolls."
   ]
  },
  {
   "cell_type": "code",
   "execution_count": 9,
   "metadata": {},
   "outputs": [
    {
     "name": "stdout",
     "output_type": "stream",
     "text": [
      "Case 1: 36\n",
      "Case 2: 20\n",
      "Case 3: 44\n"
     ]
    }
   ],
   "source": [
    "#summarize the number of times that the event resulted in\n",
    "#each of the given categories.\n",
    "\n",
    "p = [1/3]*3\n",
    "k = 100\n",
    "\n",
    "cases = np.random.multinomial(k,p)\n",
    "\n",
    "for i in range(len(cases)):\n",
    "    print(\"Case %d: %d\" % (i+1,cases[i]))"
   ]
  },
  {
   "cell_type": "markdown",
   "metadata": {},
   "source": [
    "We might expect the idealized case of 100 trials to result in 33, 33, and 34 cases for events 1,\n",
    "2 and 3 respectively. We can calculate the probability of this specific combination occurring\n",
    "in practice using the probability mass function or multinomial.pmf() SciPy function. The\n",
    "complete example is listed below."
   ]
  },
  {
   "cell_type": "code",
   "execution_count": 10,
   "metadata": {},
   "outputs": [
    {
     "name": "stdout",
     "output_type": "stream",
     "text": [
      "Case= [33, 33, 34], Probability: 0.813%\n"
     ]
    }
   ],
   "source": [
    "from scipy.stats import multinomial\n",
    "p = [1/3]*3\n",
    "k = 100\n",
    "\n",
    "dist = multinomial(k,p)\n",
    "\n",
    "cases = [33,33,34]\n",
    "\n",
    "pr = dist.pmf(cases)\n",
    "\n",
    "print('Case= %s, Probability: %.3f%%' % (cases, pr* 100))"
   ]
  },
  {
   "cell_type": "markdown",
   "metadata": {},
   "source": [
    "### Continuous Probability Distributions"
   ]
  },
  {
   "cell_type": "markdown",
   "metadata": {},
   "source": [
    "Unlike a discrete random variable, the probability for a given continuous random variable\n",
    "cannot be specified directly; instead, it is calculated as an integral (area under the curve) for a\n",
    "tiny interval around the specific outcome. The probability of an event equal to or less than a\n",
    "given value is defined by the cumulative distribution function, or CDF for short. The inverse of\n",
    "the CDF is called the percentage-point function and will give the discrete outcome that is less\n",
    "than or equal to a probability.\n",
    "\n",
    ">PDF: Probability Density Function, returns the probability of a given continuous\n",
    "outcome.\n",
    "\n",
    "> CDF: Cumulative Distribution Function, returns the probability of a value less than\n",
    "or equal to a given outcome.\n",
    "\n",
    "> PPF: Percent-Point Function, returns a discrete value that is less than or equal to\n",
    "the given probability."
   ]
  },
  {
   "cell_type": "code",
   "execution_count": 11,
   "metadata": {},
   "outputs": [
    {
     "data": {
      "image/png": "[encoded data removed]",
      "text/plain": [
       "<Figure size 432x288 with 1 Axes>"
      ]
     },
     "metadata": {
      "needs_background": "light"
     },
     "output_type": "display_data"
    },
    {
     "data": {
      "image/png": "[encoded data removed]",
      "text/plain": [
       "<Figure size 432x288 with 1 Axes>"
      ]
     },
     "metadata": {
      "needs_background": "light"
     },
     "output_type": "display_data"
    }
   ],
   "source": [
    "from scipy.stats import norm\n",
    "from matplotlib import pyplot\n",
    "# define distribution parameters\n",
    "mu = 50\n",
    "sigma = 5\n",
    "\n",
    "dist = norm(mu,sigma)\n",
    "#plot pdf\n",
    "values = [value for value in range(30,70)]\n",
    "probabilities = [dist.pdf(value) for value in values]\n",
    "pyplot.plot(values,probabilities)\n",
    "pyplot.show()\n",
    "\n",
    "#plot cdf\n",
    "cprobs = [dist.cdf(value) for value in values]\n",
    "pyplot.plot(values,cprobs)\n",
    "pyplot.show()"
   ]
  },
  {
   "cell_type": "markdown",
   "metadata": {},
   "source": [
    "#### Exponential Distribution\n",
    "\n",
    "The exponential distribution is a continuous probability distribution where a few outcomes are\n",
    "the most likely with a rapid decrease in probability to all other outcomes. It is the continuous\n",
    "random variable equivalent to the geometric probability distribution for discrete random variables.\n",
    "\n",
    "The distribution can be defined using one parameter:\n",
    "> Scale (Beta): The mean and standard deviation of the distribution.\n",
    "\n",
    ">Sometimes the distribution is defined more formally with a parameter lambda or rate. \n",
    "\n",
    ">The\n",
    "beta parameter is defined as the reciprocal of the lambda parameter (BETA = 1/LAMBDA)\n",
    "\n",
    "> Rate (lambda) = Rate of change in the distribution."
   ]
  },
  {
   "cell_type": "code",
   "execution_count": 17,
   "metadata": {},
   "outputs": [
    {
     "name": "stdout",
     "output_type": "stream",
     "text": [
      "[123.15211684  38.36513298  25.56668728  91.53648271  13.48732256\n",
      "  40.93050471   9.91756412  38.55866265  28.23520847  17.46044104]\n"
     ]
    },
    {
     "data": {
      "text/plain": [
       "[<matplotlib.lines.Line2D at 0x2717a0e3508>]"
      ]
     },
     "execution_count": 17,
     "metadata": {},
     "output_type": "execute_result"
    },
    {
     "data": {
      "image/png": "[encoded data removed]",
      "text/plain": [
       "<Figure size 432x288 with 1 Axes>"
      ]
     },
     "metadata": {
      "needs_background": "light"
     },
     "output_type": "display_data"
    }
   ],
   "source": [
    "# sample an exponential distribution\n",
    "from numpy.random import exponential\n",
    "# define the distribution\n",
    "beta = 50\n",
    "n = 10\n",
    "# generate the sample\n",
    "sample = exponential(beta, n)\n",
    "print(sample)\n",
    "pyplot.plot(sample)"
   ]
  },
  {
   "cell_type": "code",
   "execution_count": 18,
   "metadata": {},
   "outputs": [
    {
     "data": {
      "image/png": "[encoded data removed]",
      "text/plain": [
       "<Figure size 432x288 with 1 Axes>"
      ]
     },
     "metadata": {
      "needs_background": "light"
     },
     "output_type": "display_data"
    },
    {
     "data": {
      "image/png": "[encoded data removed]",
      "text/plain": [
       "<Figure size 432x288 with 1 Axes>"
      ]
     },
     "metadata": {
      "needs_background": "light"
     },
     "output_type": "display_data"
    }
   ],
   "source": [
    "from scipy.stats import expon\n",
    "from matplotlib import pyplot\n",
    "# define distribution parameter\n",
    "beta = 50\n",
    "# create distribution\n",
    "dist = expon(beta)\n",
    "# plot pdf\n",
    "values = [value for value in range(50, 70)]\n",
    "probabilities = [dist.pdf(value) for value in values]\n",
    "pyplot.plot(values, probabilities)\n",
    "pyplot.show()\n",
    "# plot cdf\n",
    "cprobs = [dist.cdf(value) for value in values]\n",
    "pyplot.plot(values, cprobs)\n",
    "pyplot.show()"
   ]
  },
  {
   "cell_type": "markdown",
   "metadata": {},
   "source": [
    "### Pareto Distribution\n",
    "\n",
    "> Shape (alpha): The steepness of the decease in probability."
   ]
  },
  {
   "cell_type": "code",
   "execution_count": 19,
   "metadata": {},
   "outputs": [
    {
     "name": "stdout",
     "output_type": "stream",
     "text": [
      "[0.02186893 1.43124982 1.98466439 1.29337449 0.39613205 1.22282286\n",
      " 0.31507588 0.24431542 0.77838459 0.01272352]\n"
     ]
    }
   ],
   "source": [
    "# sample a pareto distribution\n",
    "from numpy.random import pareto\n",
    "# define the distribution\n",
    "alpha = 1.1\n",
    "n = 10\n",
    "# generate the sample\n",
    "sample = pareto(alpha, n)\n",
    "print(sample)"
   ]
  },
  {
   "cell_type": "code",
   "execution_count": 26,
   "metadata": {},
   "outputs": [
    {
     "data": {
      "image/png": "[encoded data removed]",
      "text/plain": [
       "<Figure size 432x288 with 1 Axes>"
      ]
     },
     "metadata": {
      "needs_background": "light"
     },
     "output_type": "display_data"
    },
    {
     "data": {
      "image/png": "[encoded data removed]",
      "text/plain": [
       "<Figure size 432x288 with 1 Axes>"
      ]
     },
     "metadata": {
      "needs_background": "light"
     },
     "output_type": "display_data"
    }
   ],
   "source": [
    "from scipy.stats import pareto\n",
    "from matplotlib import pyplot\n",
    "# define distribution parameter\n",
    "alpha = 2\n",
    "# create distribution\n",
    "dist = pareto(alpha)\n",
    "# plot pdf\n",
    "values = [value/10.0 for value in range(10, 100)]\n",
    "probabilities = [dist.pdf(value) for value in values]\n",
    "pyplot.plot(values, probabilities)\n",
    "pyplot.show()\n",
    "# plot cdf\n",
    "cprobs = [dist.cdf(value) for value in values]\n",
    "pyplot.plot(values, cprobs)\n",
    "pyplot.show()"
   ]
  },
  {
   "cell_type": "markdown",
   "metadata": {},
   "source": [
    "## Probability Density Estimation"
   ]
  },
  {
   "cell_type": "markdown",
   "metadata": {},
   "source": [
    "It is unlikely that the probability density\n",
    "function for a random sample of data is known. As such, the probability density must be\n",
    "approximated using a process known as probability density estimation.\n",
    "\n",
    ">Histogram plots provide a fast and reliable way to visualize the probability density of a\n",
    "data sample.\n",
    "\n",
    "> Parametric probability density estimation involves selecting a common distribution and\n",
    "estimating the parameters for the density function from a data sample.\n",
    "\n",
    "> Nonparametric probability density estimation involves using a technique to fit a model to\n",
    "the arbitrary distribution of the data, like kernel density estimation.\n",
    "\n",
    "--\n",
    "the most common nonparametric approach for estimating the\n",
    "probability density function of a continuous random variable is called kernel smoothing, or\n",
    "kernel density estimation, KDE for short.\n",
    "\n",
    "**Kernel Density Estimation**: Nonparametric method for using a dataset to estimating\n",
    "probabilities for new points.\n",
    "\n",
    "In this case, a kernel is a mathematical function that returns a probability for a given value\n",
    "of a random variable. The kernel effectively smooths or interpolates the probabilities across\n",
    "the range of outcomes for a random variable such that the sum of probabilities equals one,\n",
    "a requirement of well-behaved probabilities. The kernel function weights the contribution of\n",
    "observations from a data sample based on their relationship or distance to a given query sample\n",
    "for which the probability is requested. A parameter, called the smoothing parameter or the\n",
    "bandwidth, controls the scope, or window of observations, from the data sample that contributes\n",
    "to estimating the probability for a given sample. As such, kernel density estimation is sometimes\n",
    "referred to as a Parzen-Rosenblatt window, or simply a Parzen window, after the developers of\n",
    "the method.\n",
    "> Smoothing Parameter (bandwidth): Parameter that controls the number of samples or\n",
    "window of samples used to estimate the probability for a new point. A large window may result in a coarse density with little details, whereas a small window\n",
    "may have too much detail and not be smooth or general enough to correctly cover new or\n",
    "unseen examples. The contribution of samples within the window can be shaped using different\n",
    "functions, sometimes referred to as basis functions, e.g. uniform normal, etc., with different\n",
    "effects on the smoothness of the resulting density function.\n",
    "\n",
    "- Basis Function (kernel): The function chosen used to control the contribution of samples in the dataset toward estimating the probability of a new point."
   ]
  },
  {
   "cell_type": "code",
   "execution_count": 1,
   "metadata": {},
   "outputs": [
    {
     "data": {
      "image/png": "[encoded data removed]",
      "text/plain": [
       "<Figure size 432x288 with 1 Axes>"
      ]
     },
     "metadata": {
      "needs_background": "light"
     },
     "output_type": "display_data"
    }
   ],
   "source": [
    "# example of a bimodal data sample\n",
    "from matplotlib import pyplot\n",
    "from numpy.random import normal\n",
    "from numpy import hstack\n",
    "# generate a sample\n",
    "sample1 = normal(loc=20, scale=5, size=300)\n",
    "sample2 = normal(loc=40, scale=5, size=700)\n",
    "sample = hstack((sample1, sample2))\n",
    "# plot the histogram\n",
    "pyplot.hist(sample, bins=50)\n",
    "pyplot.show()"
   ]
  },
  {
   "cell_type": "code",
   "execution_count": 2,
   "metadata": {},
   "outputs": [],
   "source": [
    "#kernel density estimation, for a bimodal data sample"
   ]
  },
  {
   "cell_type": "code",
   "execution_count": 12,
   "metadata": {},
   "outputs": [
    {
     "data": {
      "text/plain": [
       "KernelDensity(bandwidth=3)"
      ]
     },
     "execution_count": 12,
     "metadata": {},
     "output_type": "execute_result"
    }
   ],
   "source": [
    "import numpy as np\n",
    "from sklearn.neighbors import KernelDensity\n",
    "\n",
    "sample1 = np.random.normal(loc=20,scale=5, size=300)\n",
    "sample2 = np.random.normal(loc=40, scale=5, size=700)\n",
    "sample = np.hstack((sample1, sample2))\n",
    "\n",
    "model = KernelDensity(bandwidth=3,kernel='gaussian')\n",
    "sample = sample.reshape((len(sample),1))\n",
    "model.fit(sample)"
   ]
  },
  {
   "cell_type": "code",
   "execution_count": 14,
   "metadata": {
    "scrolled": true
   },
   "outputs": [
    {
     "data": {
      "image/png": "[encoded data removed]",
      "text/plain": [
       "<Figure size 432x288 with 1 Axes>"
      ]
     },
     "metadata": {
      "needs_background": "light"
     },
     "output_type": "display_data"
    }
   ],
   "source": [
    "from matplotlib import pyplot\n",
    "values = np.array([value for value in range(1,60)])\n",
    "values = values.reshape((len(values),1))\n",
    "probs = model.score_samples(values)\n",
    "probs = np.exp(probs)\n",
    "\n",
    "pyplot.hist(sample, bins=50, density=True)\n",
    "pyplot.plot(values[:], probs)\n",
    "pyplot.show()\n",
    "\n",
    "#The KernelDensity class is powerful and does support estimating the PDF for multidimensional data."
   ]
  },
  {
   "cell_type": "code",
   "execution_count": null,
   "metadata": {},
   "outputs": [],
   "source": []
  },
  {
   "cell_type": "code",
   "execution_count": null,
   "metadata": {},
   "outputs": [],
   "source": []
  },
  {
   "cell_type": "code",
   "execution_count": null,
   "metadata": {},
   "outputs": [],
   "source": []
  },
  {
   "cell_type": "code",
   "execution_count": null,
   "metadata": {},
   "outputs": [],
   "source": []
  },
  {
   "cell_type": "code",
   "execution_count": null,
   "metadata": {},
   "outputs": [],
   "source": []
  },
  {
   "cell_type": "code",
   "execution_count": null,
   "metadata": {},
   "outputs": [],
   "source": []
  },
  {
   "cell_type": "code",
   "execution_count": null,
   "metadata": {},
   "outputs": [],
   "source": []
  },
  {
   "cell_type": "code",
   "execution_count": null,
   "metadata": {},
   "outputs": [],
   "source": []
  },
  {
   "cell_type": "code",
   "execution_count": null,
   "metadata": {},
   "outputs": [],
   "source": []
  },
  {
   "cell_type": "code",
   "execution_count": null,
   "metadata": {},
   "outputs": [],
   "source": []
  },
  {
   "cell_type": "code",
   "execution_count": null,
   "metadata": {},
   "outputs": [],
   "source": []
  },
  {
   "cell_type": "code",
   "execution_count": null,
   "metadata": {},
   "outputs": [],
   "source": []
  },
  {
   "cell_type": "code",
   "execution_count": null,
   "metadata": {},
   "outputs": [],
   "source": []
  },
  {
   "cell_type": "code",
   "execution_count": null,
   "metadata": {},
   "outputs": [],
   "source": []
  },
  {
   "cell_type": "code",
   "execution_count": null,
   "metadata": {},
   "outputs": [],
   "source": []
  },
  {
   "cell_type": "code",
   "execution_count": null,
   "metadata": {},
   "outputs": [],
   "source": []
  },
  {
   "cell_type": "code",
   "execution_count": null,
   "metadata": {},
   "outputs": [],
   "source": []
  },
  {
   "cell_type": "code",
   "execution_count": null,
   "metadata": {},
   "outputs": [],
   "source": []
  },
  {
   "cell_type": "code",
   "execution_count": null,
   "metadata": {},
   "outputs": [],
   "source": []
  },
  {
   "cell_type": "code",
   "execution_count": null,
   "metadata": {},
   "outputs": [],
   "source": []
  },
  {
   "cell_type": "code",
   "execution_count": null,
   "metadata": {},
   "outputs": [],
   "source": []
  },
  {
   "cell_type": "code",
   "execution_count": null,
   "metadata": {},
   "outputs": [],
   "source": []
  },
  {
   "cell_type": "code",
   "execution_count": null,
   "metadata": {},
   "outputs": [],
   "source": []
  },
  {
   "cell_type": "code",
   "execution_count": null,
   "metadata": {},
   "outputs": [],
   "source": []
  },
  {
   "cell_type": "code",
   "execution_count": null,
   "metadata": {},
   "outputs": [],
   "source": []
  },
  {
   "cell_type": "code",
   "execution_count": null,
   "metadata": {},
   "outputs": [],
   "source": []
  },
  {
   "cell_type": "code",
   "execution_count": null,
   "metadata": {},
   "outputs": [],
   "source": []
  },
  {
   "cell_type": "code",
   "execution_count": null,
   "metadata": {},
   "outputs": [],
   "source": []
  },
  {
   "cell_type": "code",
   "execution_count": null,
   "metadata": {},
   "outputs": [],
   "source": []
  },
  {
   "cell_type": "code",
   "execution_count": null,
   "metadata": {},
   "outputs": [],
   "source": []
  },
  {
   "cell_type": "code",
   "execution_count": null,
   "metadata": {},
   "outputs": [],
   "source": []
  }
 ],
 "metadata": {
  "kernelspec": {
   "display_name": "Python 3",
   "language": "python",
   "name": "python3"
  },
  "language_info": {
   "codemirror_mode": {
    "name": "ipython",
    "version": 3
   },
   "file_extension": ".py",
   "mimetype": "text/x-python",
   "name": "python",
   "nbconvert_exporter": "python",
   "pygments_lexer": "ipython3",
   "version": "3.7.9"
  }
 },
 "nbformat": 4,
 "nbformat_minor": 4
}
