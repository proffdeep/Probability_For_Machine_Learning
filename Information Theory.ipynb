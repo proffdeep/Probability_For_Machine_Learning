{
 "cells": [
  {
   "cell_type": "markdown",
   "metadata": {},
   "source": [
    "# Information Theory"
   ]
  },
  {
   "cell_type": "code",
   "execution_count": 1,
   "metadata": {},
   "outputs": [],
   "source": [
    "import numpy as np"
   ]
  },
  {
   "cell_type": "code",
   "execution_count": 18,
   "metadata": {},
   "outputs": [],
   "source": [
    "events = ['red','green','yellow']\n",
    "p = [0.10,0.40,0.50]\n",
    "q = [0.80,0.15,0.05]\n",
    "\n",
    "def KL_divergence(p,q):\n",
    "    return sum([p[i] * np.log(p[i]/q[i]) for i in range(len(p))])"
   ]
  },
  {
   "cell_type": "code",
   "execution_count": 12,
   "metadata": {},
   "outputs": [
    {
     "name": "stdout",
     "output_type": "stream",
     "text": [
      "KL(P || Q): 1.336 bits\n",
      "KL(Q || P): 1.401 bits\n"
     ]
    }
   ],
   "source": [
    "kl_pq = KL_divergence(p, q)\n",
    "print('KL(P || Q): %.3f bits' % kl_pq)\n",
    "# calculate (Q || P)\n",
    "kl_qp = KL_divergence(q, p)\n",
    "print('KL(Q || P): %.3f bits' % kl_qp)"
   ]
  },
  {
   "cell_type": "code",
   "execution_count": 13,
   "metadata": {},
   "outputs": [
    {
     "name": "stdout",
     "output_type": "stream",
     "text": [
      "KL(P || Q): 1.336 bits\n",
      "KL(Q || P): 1.401 bits\n"
     ]
    }
   ],
   "source": [
    "from scipy.special import rel_entr\n",
    "kl_pq = rel_entr(p, q)\n",
    "print('KL(P || Q): %.3f bits' % sum(kl_pq))\n",
    "# calculate (Q || P)\n",
    "kl_qp = rel_entr(q, p)\n",
    "print('KL(Q || P): %.3f bits' % sum(kl_qp))"
   ]
  },
  {
   "cell_type": "markdown",
   "metadata": {},
   "source": [
    "#### Jensen-Shannon Divergence"
   ]
  },
  {
   "cell_type": "code",
   "execution_count": 30,
   "metadata": {},
   "outputs": [],
   "source": [
    "def KL_divergence(p,q):\n",
    "    return sum([p[i] * np.log2(p[i]/q[i]) for i in range(len(p))])\n",
    "\n",
    "def js_divergence(p,q):\n",
    "    m = 0.5 * (p + q) \n",
    "    return (KL_divergence(p,m) + KL_divergence(q,m)) * 0.5"
   ]
  },
  {
   "cell_type": "code",
   "execution_count": 31,
   "metadata": {},
   "outputs": [
    {
     "name": "stdout",
     "output_type": "stream",
     "text": [
      "JS(P || Q) divergence: 0.420 bits\n",
      "JS(P || Q) distance: 0.648\n",
      "JS(Q || P) divergence: 0.420 bits\n",
      "JS(Q || P) distance: 0.648\n"
     ]
    }
   ],
   "source": [
    "p = np.array([0.10,0.40,0.50])\n",
    "q = np.array([0.80,0.15,0.05])\n",
    "\n",
    "\n",
    "js_pq = js_divergence(p, q)\n",
    "print('JS(P || Q) divergence: %.3f bits' % js_pq)\n",
    "print('JS(P || Q) distance: %.3f' % np.sqrt(js_pq))\n",
    "# calculate JS(Q || P)\n",
    "js_qp = js_divergence(q, p)\n",
    "print('JS(Q || P) divergence: %.3f bits' % js_qp)\n",
    "print('JS(Q || P) distance: %.3f' % np.sqrt(js_qp))"
   ]
  },
  {
   "cell_type": "code",
   "execution_count": 32,
   "metadata": {},
   "outputs": [
    {
     "name": "stdout",
     "output_type": "stream",
     "text": [
      "JS(P || Q) Distance: 0.648\n",
      "JS(Q || P) Distance: 0.648\n"
     ]
    }
   ],
   "source": [
    "from scipy.spatial.distance import jensenshannon\n",
    "js_pq = jensenshannon(p, q, base=2)\n",
    "print('JS(P || Q) Distance: %.3f' % js_pq)\n",
    "# calculate JS(Q || P)\n",
    "js_qp = jensenshannon(q, p, base=2)\n",
    "print('JS(Q || P) Distance: %.3f' % js_qp)"
   ]
  },
  {
   "cell_type": "markdown",
   "metadata": {},
   "source": [
    "### Information Gain\n",
    "\n",
    "For example, we may wish to evaluate the impact on purity by splitting a dataset S by a\n",
    "random variable with a range of values. This can be calculated as follows:\n",
    "IG(S; a) = H(S) - H(Sja)\n",
    "Where IG(S; a) is the information for the dataset S for the variable a for a random variable,\n",
    "H(S) is the entropy for the dataset before any change (described above) and H(Sja) is the\n",
    "conditional entropy for the dataset given the variable a. This calculation describes the gain in\n",
    "the dataset S for the variable a. It is the number of bits saved when transforming the dataset.\n",
    "The conditional entropy can be calculated by splitting the dataset into groups for each observed\n",
    "value of a and calculating the sum of the ratio of examples in each group out of the entire\n",
    "dataset multiplied by the entropy of each group.\n",
    "\n",
    "H(S|a) = SIGMA{vEa} Sa(v)/S * H(Sa(v))\n",
    "\n",
    "Where Sa(v)/S is the ratio of the number of examples in the dataset with variable a has the\n",
    "value v, and H(Sa(v)) is the entropy of group of samples where variable a has the value v. This\n",
    "might sound a little confusing. We can make the calculation of information gain concrete with a\n",
    "worked example."
   ]
  },
  {
   "cell_type": "markdown",
   "metadata": {},
   "source": [
    "In this section, we will make the calculation of information gain concrete with a worked example.\n",
    "We can define a function to calculate the entropy of a group of samples based on the ratio of\n",
    "samples that belong to class 0 and class 1."
   ]
  },
  {
   "cell_type": "code",
   "execution_count": 33,
   "metadata": {},
   "outputs": [
    {
     "name": "stdout",
     "output_type": "stream",
     "text": [
      "Dataset Entropy:  0.934068055375491\n",
      "Group1 Entropy:  0.5435644431995964\n",
      "Group1 Entropy:  1.0\n",
      "Gain:  0.11664227809565242\n"
     ]
    }
   ],
   "source": [
    "from math import log2\n",
    "\n",
    "def entropy(class0,class1):\n",
    "    return -(class0 * log2(class0) + class1 * log2(class1))\n",
    "#Now, consider a dataset with 20 examples, 13 for class 0 and 7 for class 1.\n",
    "#split the main dataset\n",
    "class0 = 13/20\n",
    "class1 = 7/20\n",
    "#entropy before the change\n",
    "s_entropy = entropy(class0,class1)\n",
    "print(\"Dataset Entropy: \",s_entropy)\n",
    "\n",
    "# Now consider that one of the variables in the dataset has two unique values, say value1 and\n",
    "# value2. We are interested in calculating the information gain of this variable. Let's assume\n",
    "# that if we split the dataset by value1, we have a group of eight samples, seven for class 0 and\n",
    "# one for class 1. We can then calculate the entropy of this group of samples.\n",
    "\n",
    "#split 1 (split via value1)\n",
    "s1_class0 = 7/8\n",
    "s1_class1 = 1/8\n",
    "# calculate entropy of first group\n",
    "s1_entropy = entropy(s1_class0,s1_class1)\n",
    "print(\"Group1 Entropy: \", s1_entropy)\n",
    "\n",
    "#split 2 (split via value2)\n",
    "s2_class0 = 6/12\n",
    "s2_class1 = 6/12\n",
    "# calculate entropy of first group\n",
    "s2_entropy = entropy(s2_class0,s2_class1)\n",
    "print(\"Group1 Entropy: \", s2_entropy)\n",
    "\n",
    "#calculate info gain\n",
    "\n",
    "# The first variable resulted in a group\n",
    "# of eight examples from the dataset, and the second \n",
    "# group had the remaining 12 samples in the data set.\n",
    "\n",
    "gain = s_entropy - ((8/20) * s1_entropy + 12/20 * s2_entropy)\n",
    "print(\"Gain: \",gain)"
   ]
  },
  {
   "attachments": {
    "image.png": {
     "image/png": "[encoded data removed]"
    }
   },
   "cell_type": "markdown",
   "metadata": {},
   "source": [
    "![image.png](attachment:image.png)"
   ]
  },
  {
   "cell_type": "code",
   "execution_count": null,
   "metadata": {},
   "outputs": [],
   "source": []
  },
  {
   "cell_type": "code",
   "execution_count": null,
   "metadata": {},
   "outputs": [],
   "source": []
  },
  {
   "cell_type": "code",
   "execution_count": null,
   "metadata": {},
   "outputs": [],
   "source": []
  },
  {
   "cell_type": "code",
   "execution_count": null,
   "metadata": {},
   "outputs": [],
   "source": []
  },
  {
   "cell_type": "code",
   "execution_count": null,
   "metadata": {},
   "outputs": [],
   "source": []
  },
  {
   "cell_type": "code",
   "execution_count": null,
   "metadata": {},
   "outputs": [],
   "source": []
  },
  {
   "cell_type": "code",
   "execution_count": null,
   "metadata": {},
   "outputs": [],
   "source": []
  },
  {
   "cell_type": "code",
   "execution_count": null,
   "metadata": {},
   "outputs": [],
   "source": []
  },
  {
   "cell_type": "code",
   "execution_count": null,
   "metadata": {},
   "outputs": [],
   "source": []
  },
  {
   "cell_type": "code",
   "execution_count": null,
   "metadata": {},
   "outputs": [],
   "source": []
  },
  {
   "cell_type": "code",
   "execution_count": null,
   "metadata": {},
   "outputs": [],
   "source": []
  },
  {
   "cell_type": "code",
   "execution_count": null,
   "metadata": {},
   "outputs": [],
   "source": []
  },
  {
   "cell_type": "code",
   "execution_count": null,
   "metadata": {},
   "outputs": [],
   "source": []
  },
  {
   "cell_type": "code",
   "execution_count": null,
   "metadata": {},
   "outputs": [],
   "source": []
  },
  {
   "cell_type": "code",
   "execution_count": null,
   "metadata": {},
   "outputs": [],
   "source": []
  },
  {
   "cell_type": "code",
   "execution_count": null,
   "metadata": {},
   "outputs": [],
   "source": []
  },
  {
   "cell_type": "code",
   "execution_count": null,
   "metadata": {},
   "outputs": [],
   "source": []
  },
  {
   "cell_type": "code",
   "execution_count": null,
   "metadata": {},
   "outputs": [],
   "source": []
  },
  {
   "cell_type": "code",
   "execution_count": null,
   "metadata": {},
   "outputs": [],
   "source": []
  },
  {
   "cell_type": "code",
   "execution_count": null,
   "metadata": {},
   "outputs": [],
   "source": []
  },
  {
   "cell_type": "code",
   "execution_count": null,
   "metadata": {},
   "outputs": [],
   "source": []
  },
  {
   "cell_type": "code",
   "execution_count": null,
   "metadata": {},
   "outputs": [],
   "source": []
  }
 ],
 "metadata": {
  "kernelspec": {
   "display_name": "Python 3",
   "language": "python",
   "name": "python3"
  },
  "language_info": {
   "codemirror_mode": {
    "name": "ipython",
    "version": 3
   },
   "file_extension": ".py",
   "mimetype": "text/x-python",
   "name": "python",
   "nbconvert_exporter": "python",
   "pygments_lexer": "ipython3",
   "version": "3.7.9"
  }
 },
 "nbformat": 4,
 "nbformat_minor": 4
}
