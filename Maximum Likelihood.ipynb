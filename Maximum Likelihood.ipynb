{
 "cells": [
  {
   "cell_type": "markdown",
   "metadata": {},
   "source": [
    "## Maximum Likelihood Estimation"
   ]
  },
  {
   "cell_type": "markdown",
   "metadata": {},
   "source": [
    "**Density estimation is the problem of estimating the probability distribution for a sample of observations from a problem domain.**\n",
    "\n",
    "Maximum likelihood estimation involves defining a likelihood function\n",
    "for calculating the conditional probability of observing the data sample given a probability\n",
    "distribution and distribution parameters. This approach can be used to search a space of possible\n",
    "distributions and parameters\n",
    "\n",
    "> Maximum Likelihood Estimation is a probabilistic framework for solving the problem of\n",
    "density estimation.\n",
    "\n",
    "> It involves maximizing a likelihood function in order to find the probability distribution\n",
    "and parameters that best explain the observed data.\n",
    "\n",
    "> It provides a framework for predictive modeling in machine learning where finding model\n",
    "parameters can be framed as an optimization problem."
   ]
  },
  {
   "cell_type": "markdown",
   "metadata": {},
   "source": [
    "A common modeling problem involves how to estimate a joint probability distribution for a\n",
    "dataset. For example, given a sample of observation (X) from a domain (x1; x2; x3; . . . ; xn),\n",
    "where each observation is drawn independently from the domain with the same probability\n",
    "distribution (so-called independent and identically distributed, i.i.d., or close to it). Density\n",
    "estimation involves selecting a probability distribution function and the parameters of that\n",
    "distribution that best explain the joint probability distribution of the observed data (X).\n",
    "> How do you choose the probability distribution function?\n",
    "\n",
    "> How do you choose the parameters for the probability distribution function?\n",
    "\n",
    "This problem is made more challenging if the sample (X) drawn from the population is\n",
    "small and has noise, meaning that any evaluation of an estimated probability density function\n",
    "and its parameters will have some error. There are many techniques for solving this problem,\n",
    "although two common approaches are:\n",
    "\n",
    "> Maximum a Posteriori (MAP), a Bayesian method.\n",
    "\n",
    "> Maximum Likelihood Estimation (MLE), frequentist method.\n",
    "\n",
    "The main difference is that MLE assumes that all solutions are equally likely beforehand,\n",
    "whereas MAP allows prior information about the form of the solution to be harnessed.\n",
    "\n",
    "it involves defining a parameter called theta\n",
    "(THETA) that defines both the choice of the probability density function and the parameters of that\n",
    "distribution. It may be a vector of numerical values whose values change smoothly and map to\n",
    "different probability distributions and their parameters. In Maximum Likelihood Estimation, we\n",
    "wish to maximize the probability of observing the data from the joint probability distribution\n",
    "given a specific probability distribution and its parameters, stated formally as:\n",
    "> `P(X;THETA)` # Semicolon used to represent conditonal P(), as Theta is unk\n",
    "\n",
    "This resulting conditional probability is referred to as the likelihood of observing the data\n",
    "given the model parameters and written using the notation L() to denote the likelihood function.\n",
    "For example:\n",
    "> `L(X; THETA)`\n",
    "\n",
    "The objective of Maximum Likelihood Estimation is to find the set of parameters (THETA) that\n",
    "maximize the likelihood function, e.g. result in the largest likelihood value.\n",
    "> `max L(X; THETA)`\n",
    "\n",
    "The joint probability distribution can be restated as the multiplication of the conditional\n",
    "probability for observing each example given the distribution parameters.\n",
    "> `PI(1 to n) P(xi;THETA)` => `SIGMA(1 to n) log P(xi;THETA)`\n",
    "\n",
    "---------------------------------------------------------------------------\n",
    "Given the frequent use of log in the likelihood function, it is commonly referred to as a\n",
    "log-likelihood function. It is common in optimization problems to prefer to minimize the cost\n",
    "function, rather than to maximize it. Therefore, the negative of the log-likelihood function is\n",
    "used, referred to generally as a Negative Log-Likelihood (NLL) function.\n",
    "> `min( -SIGMA(1 to n) log P(xi; THETA) )`"
   ]
  },
  {
   "cell_type": "markdown",
   "metadata": {},
   "source": [
    "In relation to ML, the choice of model and model parameters is referred to as a modeling\n",
    "hypothesis h, and the problem involves finding h that best explains the data X.\n",
    ">`P(X; h)`\n",
    "\n",
    "We can, therefore, find the modeling hypothesis that maximizes the likelihood function.\n",
    "max L(X; h)\n",
    "\n",
    "This provides the basis for estimating the probability density of a dataset, typically used in\n",
    "unsupervised machine learning algorithms; for example:\n",
    "\n",
    "> **Clustering algorithms**.\n",
    "Using the expected log joint probability as a key quantity for learning in a probability\n",
    "model with hidden variables is better known in the context of the celebrated\n",
    "expectation maximization or EM algorithm.\n",
    "\n",
    "\n",
    "The Maximum Likelihood Estimation framework is also a useful tool for supervised machine\n",
    "learning. This applies to data where we have input and output variables, where the output\n",
    "variable may be a numerical value or a class label in the case of regression and classifition\n",
    "predictive modeling retrospectively. We can state this as the conditional probability of the\n",
    "output y given the input (X) given the modeling hypothesis (h).\n",
    "> `max L(y|X ; h)`"
   ]
  },
  {
   "cell_type": "markdown",
   "metadata": {},
   "source": [
    "## Linear Regression with MLE"
   ]
  },
  {
   "cell_type": "markdown",
   "metadata": {},
   "source": [
    "under certain assumptions any learning algorithm that minimizes the squared\n",
    "error between the output hypothesis pre- dictions and the training data will output\n",
    "a maximum likelihood hypothesis."
   ]
  },
  {
   "cell_type": "markdown",
   "metadata": {},
   "source": [
    "## Logistic Regression"
   ]
  },
  {
   "cell_type": "code",
   "execution_count": 9,
   "metadata": {},
   "outputs": [
    {
     "name": "stdout",
     "output_type": "stream",
     "text": [
      "Odds of success:  4.000000000000001\n",
      "Back to P():  0.8\n"
     ]
    }
   ],
   "source": [
    "prob = 0.8 # p() of success\n",
    "odds = prob/(1-prob)\n",
    "print(\"Odds of success: \",odds)\n",
    "#convert back to probab\n",
    "p = odds/(1+odds)\n",
    "print(\"Back to P(): \",p)"
   ]
  },
  {
   "cell_type": "markdown",
   "metadata": {},
   "source": [
    "Let's extend this example and convert the odds to log-odds and then convert the log-odds\n",
    "back into the original probability. This final conversion is effectively the form of the logistic\n",
    "regression model, or the logistic function. The complete example is listed below."
   ]
  },
  {
   "cell_type": "code",
   "execution_count": 10,
   "metadata": {},
   "outputs": [
    {
     "name": "stdout",
     "output_type": "stream",
     "text": [
      "Odds:  4.000000000000001\n",
      "log-odds:  1.3862943611198908\n",
      "Back to p:  0.8\n"
     ]
    }
   ],
   "source": [
    "import math\n",
    "\n",
    "prob = 0.8\n",
    "\n",
    "odds = prob/(1-prob)\n",
    "print(\"Odds: \",odds)\n",
    "log_odds = math.log(odds)\n",
    "print(\"log-odds: \",log_odds)\n",
    "# converting back to p\n",
    "p = 1 / (1 + math.exp(-log_odds))\n",
    "print(\"Back to p: \",p)"
   ]
  },
  {
   "cell_type": "code",
   "execution_count": null,
   "metadata": {},
   "outputs": [],
   "source": []
  },
  {
   "cell_type": "code",
   "execution_count": 11,
   "metadata": {},
   "outputs": [
    {
     "data": {
      "image/png": "[encoded data removed]",
      "text/plain": [
       "<Figure size 432x288 with 1 Axes>"
      ]
     },
     "metadata": {
      "needs_background": "light"
     },
     "output_type": "display_data"
    }
   ],
   "source": [
    "from numpy import hstack\n",
    "from numpy.random import normal\n",
    "from matplotlib import pyplot\n",
    "# generate a sample\n",
    "X1 = normal(loc=20, scale=5, size=3000)\n",
    "X2 = normal(loc=40, scale=5, size=7000)\n",
    "X = hstack((X1, X2))\n",
    "# plot the histogram\n",
    "pyplot.hist(X, bins=50, density=True)\n",
    "pyplot.show()"
   ]
  },
  {
   "cell_type": "code",
   "execution_count": 24,
   "metadata": {},
   "outputs": [],
   "source": [
    "X= X.reshape(-1,1)"
   ]
  },
  {
   "cell_type": "code",
   "execution_count": 25,
   "metadata": {},
   "outputs": [],
   "source": [
    "from sklearn.mixture import GaussianMixture"
   ]
  },
  {
   "cell_type": "markdown",
   "metadata": {},
   "source": [
    "For example, we can\n",
    "estimate the latent variable for the points in the training dataset and we would expect the first\n",
    "3,000 points to belong to one process (e.g. value=1) and the next 7,000 data points to belong\n",
    "to another process (e.g. value=0)."
   ]
  },
  {
   "cell_type": "code",
   "execution_count": 48,
   "metadata": {},
   "outputs": [
    {
     "name": "stdout",
     "output_type": "stream",
     "text": [
      "[0 0 0 0 0 0 0 0 0 0 0 0 0 0 0 0 0 0 0 0 0 0 0 0 0 0 0 0 0 0 0 0 0 0 0 0 0\n",
      " 0 0 0 0 0 0 0 0 0 0 0 0 0 0 0 0 0 0 0 0 0 0 0 0 0 0 0 0 0 0 0 0 0 0 0 0 0\n",
      " 0 0 0 0 0 0 0 0 0 0 0 0 0 0 0 0 0 0 0 0 0 0 1 0 0 0]\n",
      "[1 0 1 1 1 1 1 1 1 1 1 1 1 0 1 1 1 1 1 1 1 1 1 1 1 1 0 1 1 0 1 1 1 1 1 1 1\n",
      " 1 0 1 1 1 1 1 0 0 1 0 1 1 1 1 1 1 1 1 1 1 1 1 1 0 0 0 1 1 1 1 1 1 1 1 1 1\n",
      " 0 1 1 1 1 1 1 1 1 0 1 1 1 1 0 1 1 1 1 1 0 1 0 0 1 0]\n"
     ]
    }
   ],
   "source": [
    "model = GaussianMixture(n_components=2,init_params='random')\n",
    "model.fit(X)\n",
    "\n",
    "yhat = model.predict(X)\n",
    "#check latent values for first few points\n",
    "print(yhat[:100])\n",
    "# check latent value for last few points\n",
    "print(yhat[-100:])"
   ]
  },
  {
   "cell_type": "code",
   "execution_count": 49,
   "metadata": {},
   "outputs": [
    {
     "data": {
      "text/plain": [
       "75196.07979374082"
      ]
     },
     "execution_count": 49,
     "metadata": {},
     "output_type": "execute_result"
    }
   ],
   "source": [
    "model.aic(X)"
   ]
  },
  {
   "cell_type": "code",
   "execution_count": 50,
   "metadata": {},
   "outputs": [
    {
     "data": {
      "text/plain": [
       "75232.1314956007"
      ]
     },
     "execution_count": 50,
     "metadata": {},
     "output_type": "execute_result"
    }
   ],
   "source": [
    "model.bic(X)"
   ]
  },
  {
   "cell_type": "markdown",
   "metadata": {},
   "source": [
    "# AIC , BIC and MDL example"
   ]
  },
  {
   "cell_type": "code",
   "execution_count": 51,
   "metadata": {},
   "outputs": [],
   "source": [
    "from sklearn.datasets import make_regression\n",
    "from sklearn.linear_model import LinearRegression\n",
    "from sklearn.metrics import mean_squared_error"
   ]
  },
  {
   "cell_type": "code",
   "execution_count": 52,
   "metadata": {},
   "outputs": [
    {
     "data": {
      "text/plain": [
       "LinearRegression()"
      ]
     },
     "execution_count": 52,
     "metadata": {},
     "output_type": "execute_result"
    }
   ],
   "source": [
    "X, y = make_regression(n_samples=100, n_features=2, noise=0.1)\n",
    "# define and fit the model on all data\n",
    "model = LinearRegression()\n",
    "model.fit(X, y)"
   ]
  },
  {
   "cell_type": "code",
   "execution_count": 53,
   "metadata": {},
   "outputs": [
    {
     "name": "stdout",
     "output_type": "stream",
     "text": [
      "Number of parameters: 3\n"
     ]
    }
   ],
   "source": [
    "num_params = len(model.coef_) + 1\n",
    "print('Number of parameters: %d' % (num_params))"
   ]
  },
  {
   "cell_type": "code",
   "execution_count": 54,
   "metadata": {},
   "outputs": [
    {
     "name": "stdout",
     "output_type": "stream",
     "text": [
      "MSE: 0.011\n"
     ]
    }
   ],
   "source": [
    "yhat = model.predict(X)\n",
    "mse = mean_squared_error(y, yhat)\n",
    "print('MSE: %.3f' % mse)"
   ]
  },
  {
   "cell_type": "markdown",
   "metadata": {},
   "source": [
    "Next, we can adapt the example to calculate the AIC for the model.\n",
    "\n",
    "> `AIC = n * LL + 2 * k`\n",
    "where n = No. of samples, LL = log likelihood for the model , here logarithm of Mean_squared_error; LL = log(MSE), k = model paramters"
   ]
  },
  {
   "cell_type": "code",
   "execution_count": 56,
   "metadata": {},
   "outputs": [],
   "source": [
    "def AIC(n,L,k):\n",
    "    aic = n * math.log(L) + (2 * k)\n",
    "    return aic"
   ]
  },
  {
   "cell_type": "code",
   "execution_count": 57,
   "metadata": {},
   "outputs": [
    {
     "data": {
      "text/plain": [
       "-447.98124884205976"
      ]
     },
     "execution_count": 57,
     "metadata": {},
     "output_type": "execute_result"
    }
   ],
   "source": [
    "AIC(100,mse,num_params)"
   ]
  },
  {
   "cell_type": "code",
   "execution_count": 58,
   "metadata": {},
   "outputs": [],
   "source": [
    "# Now, BIC = n * LL + k * log(n)\n",
    "\n",
    "def BIC(n,L,k):\n",
    "    bic = n * math.log(LL) + (k * math.log(n))\n",
    "    return bic"
   ]
  },
  {
   "cell_type": "code",
   "execution_count": 59,
   "metadata": {},
   "outputs": [
    {
     "data": {
      "text/plain": [
       "-440.1657382840955"
      ]
     },
     "execution_count": 59,
     "metadata": {},
     "output_type": "execute_result"
    }
   ],
   "source": [
    "BIC(100,mse,num_params)"
   ]
  },
  {
   "cell_type": "markdown",
   "metadata": {},
   "source": [
    "## Naive Bayes Example"
   ]
  },
  {
   "cell_type": "code",
   "execution_count": 60,
   "metadata": {},
   "outputs": [
    {
     "name": "stdout",
     "output_type": "stream",
     "text": [
      "(100, 2) (100,)\n",
      "[[-0.79415228  2.10495117]\n",
      " [-9.15155186 -4.81286449]\n",
      " [-3.10367371  3.90202401]\n",
      " [-1.42946517  5.16850105]\n",
      " [-7.4693868  -4.20198333]]\n",
      "[0 1 0 0 1]\n"
     ]
    }
   ],
   "source": [
    "from sklearn.datasets import make_blobs\n",
    "X,y = make_blobs(n_samples=100, centers=2, n_features=2, random_state=1)\n",
    "\n",
    "print(X.shape,y.shape)\n",
    "print(X[:5])\n",
    "print(y[:5])"
   ]
  },
  {
   "cell_type": "markdown",
   "metadata": {},
   "source": [
    "We will model the numerical input variables using a Gaussian probability distribution.\n",
    "This can be achieved using the norm SciPy API. First, the distribution can be constructed by\n",
    "specifying the parameters of the distribution, e.g. the mean and standard deviation, then the\n",
    "probability density function can be sampled for specific values using the norm.pdf() function.\n",
    "We can estimate the parameters of the distribution from the dataset using the mean() and\n",
    "std() NumPy functions. The fit distribution() function below takes a sample of data for\n",
    "one variable and fits a data distribution."
   ]
  },
  {
   "cell_type": "code",
   "execution_count": 72,
   "metadata": {},
   "outputs": [],
   "source": [
    "from scipy.stats import norm\n",
    "import numpy as np\n",
    "\n",
    "def fit_distribution(data):\n",
    "    mu = np.mean(data)\n",
    "    sigma = np.std(data)\n",
    "    print(mu,sigma)\n",
    "    dist = norm(mu,sigma)\n",
    "    return dist"
   ]
  },
  {
   "cell_type": "code",
   "execution_count": 73,
   "metadata": {},
   "outputs": [
    {
     "name": "stdout",
     "output_type": "stream",
     "text": [
      "(50, 2) (50, 2)\n",
      "0.5 0.5\n"
     ]
    }
   ],
   "source": [
    "# sort data into classes\n",
    "Xy0 = X[y==0]\n",
    "Xy1 = X[y==1]\n",
    "print(Xy0.shape,Xy1.shape)\n",
    "\n",
    "# calculate priors\n",
    "priory0 = len(Xy0) / len(X) #P(y=0)\n",
    "priory1 = len(Xy1) / len(X) #P(y=1)\n",
    "print(priory0,priory1)"
   ]
  },
  {
   "cell_type": "markdown",
   "metadata": {},
   "source": [
    "Finally, we can call the fit distribution() function that we defined to prepare a probability\n",
    "distribution for each variable, for each class label."
   ]
  },
  {
   "cell_type": "code",
   "execution_count": 74,
   "metadata": {},
   "outputs": [
    {
     "name": "stdout",
     "output_type": "stream",
     "text": [
      "-1.5632888906409914 0.787444265443213\n",
      "4.426680361487157 0.958296071258367\n",
      "-9.681177100524485 0.8943078901048118\n",
      "-3.9713794295185845 0.9308177595208521\n"
     ]
    }
   ],
   "source": [
    "# create PDFs for y==0\n",
    "X1y0 = fit_distribution(Xy0[:,0])\n",
    "X2y0 = fit_distribution(Xy0[:,1])\n",
    "\n",
    "# create PDFs for y==1\n",
    "X1y1 = fit_distribution(Xy1[:,0])\n",
    "X2y1 = fit_distribution(Xy1[:,1])"
   ]
  },
  {
   "cell_type": "markdown",
   "metadata": {},
   "source": [
    "Next, we can use the prepared probabilistic model to make a prediction. The independent\n",
    "conditional probability for each class label can be calculated using the prior for the class (50%)\n",
    "and the conditional probability of the value for each variable. The probability() function\n",
    "below performs this calculation for one input example (array of two values) given the prior\n",
    "and conditional probability distribution for each variable. The value returned is a score rather\n",
    "than a probability as the quantity is not normalized, a simplification often performed when\n",
    "implementing Naive Bayes."
   ]
  },
  {
   "cell_type": "code",
   "execution_count": 75,
   "metadata": {},
   "outputs": [],
   "source": [
    "def probability(X,prior,dist1,dist2):\n",
    "    return prior * dist1.pdf(X[0]) * dist2.pdf(X[1])"
   ]
  },
  {
   "cell_type": "markdown",
   "metadata": {},
   "source": [
    "We can use this function to calculate the probability for an example belonging to each class.\n",
    "First, we can select an example to be classified; in this case, the first example in the dataset."
   ]
  },
  {
   "cell_type": "code",
   "execution_count": 77,
   "metadata": {},
   "outputs": [
    {
     "name": "stdout",
     "output_type": "stream",
     "text": [
      "P(y=0 | [-0.79415228  2.10495117]) = 0.348\n",
      "P(y=1 | [-0.79415228  2.10495117]) = 0.000\n",
      "Truth: y=0\n"
     ]
    }
   ],
   "source": [
    "Xsample, ysample = X[0], y[0]\n",
    "\n",
    "py0 = probability(Xsample, priory0, X1y0, X2y0)\n",
    "py1 = probability(Xsample, priory1, X1y1, X2y1)\n",
    "\n",
    "print('P(y=0 | %s) = %.3f' % (Xsample, py0*100))\n",
    "print('P(y=1 | %s) = %.3f' % (Xsample, py1*100))\n",
    "print('Truth: y=%d' % ysample)\n",
    "\n",
    "#The class with the largest score will be the resulting classification."
   ]
  },
  {
   "cell_type": "code",
   "execution_count": 80,
   "metadata": {},
   "outputs": [
    {
     "name": "stdout",
     "output_type": "stream",
     "text": [
      "[[1.00000000e+00 5.52387327e-30]]\n",
      "[0]\n",
      "Truth 0\n"
     ]
    }
   ],
   "source": [
    "# using sklearn\n",
    "\n",
    "from sklearn.datasets import make_blobs\n",
    "from sklearn.naive_bayes import GaussianNB\n",
    "\n",
    "X, y = make_blobs(n_samples=100, centers=2, n_features=2, random_state=1)\n",
    "\n",
    "model = GaussianNB()\n",
    "model.fit(X,y)\n",
    "Xsample,ysample = [X[0]], y[0]\n",
    "\n",
    "yhat_prob = model.predict_proba(Xsample)\n",
    "print(yhat_prob)\n",
    "yhat_class = model.predict(Xsample)\n",
    "print(yhat_class)\n",
    "print(\"Truth\", ysample)"
   ]
  },
  {
   "cell_type": "markdown",
   "metadata": {},
   "source": [
    "## Bayesian Optimization from Scratch\n",
    "\n",
    "The first step is to define a test problem. We will use a multimodal problem with five peaks,\n",
    "calculated as: `y = x^2 * sin(5 * PI * x)^6`\n",
    "\n",
    "> Where x is a real value in the range [0,1]\n",
    "\n",
    "We will augment this\n",
    "function by adding Gaussian noise with a mean of zero and a standard deviation of 0.1. This\n",
    "will mean that the real evaluation will have a positive or negative random value added to it,\n",
    "making the function challenging to optimize. The objective() function below implements this."
   ]
  },
  {
   "cell_type": "code",
   "execution_count": 84,
   "metadata": {},
   "outputs": [],
   "source": [
    "def objective(x,noise=0.1):\n",
    "    noise = np.random.normal(loc=0,scale=noise)\n",
    "    return (x**2 * np.sin(5 * np.pi * x)**6) + noise"
   ]
  },
  {
   "cell_type": "markdown",
   "metadata": {},
   "source": [
    "We can test this function by first defining a grid-based sample of inputs from 0 to 1 with a\n",
    "step size of 0.01 across the domain."
   ]
  },
  {
   "cell_type": "code",
   "execution_count": 123,
   "metadata": {},
   "outputs": [],
   "source": [
    "X = np.arange(0,1,0.01)"
   ]
  },
  {
   "cell_type": "markdown",
   "metadata": {},
   "source": [
    "We can then evaluate these samples using the objective function without any noise to see\n",
    "what the real objective function looks like."
   ]
  },
  {
   "cell_type": "code",
   "execution_count": 124,
   "metadata": {},
   "outputs": [],
   "source": [
    "y = [objective(x,0) for x in X]\n",
    "# sample the domain with noise\n",
    "ynoise = [objective(x) for x in X]"
   ]
  },
  {
   "cell_type": "code",
   "execution_count": 125,
   "metadata": {},
   "outputs": [
    {
     "name": "stdout",
     "output_type": "stream",
     "text": [
      "Optima: x=0.900, y=0.810\n"
     ]
    }
   ],
   "source": [
    "# find best result for non noisy\n",
    "ix = np.argmax(y)\n",
    "print(\"Optima: x=%.3f, y=%.3f\" % (X[ix],y[ix]))"
   ]
  },
  {
   "cell_type": "code",
   "execution_count": 126,
   "metadata": {},
   "outputs": [
    {
     "data": {
      "image/png": "[encoded data removed]",
      "text/plain": [
       "<Figure size 432x288 with 1 Axes>"
      ]
     },
     "metadata": {
      "needs_background": "light"
     },
     "output_type": "display_data"
    }
   ],
   "source": [
    "#plot points with noise\n",
    "pyplot.scatter(X,ynoise,label='ynoise')\n",
    "pyplot.plot(X,y,c='orange',label='y',linewidth=3)\n",
    "pyplot.legend()\n",
    "pyplot.show()"
   ]
  },
  {
   "cell_type": "markdown",
   "metadata": {},
   "source": [
    "**Surrogate Function**\n",
    "\n",
    "The surrogate function is a technique used to best approximate the mapping of input examples\n",
    "to an output score. Probabilistically, it summarizes the conditional probability of an objective\n",
    "function (f), given the available data (D) or P(fjD). A number of techniques can be used for\n",
    "this, although the most popular is to treat the problem as a regression predictive modeling\n",
    "problem with the data representing the input and the score representing the output to the\n",
    "model. This is often best modeled using a random forest or a Gaussian Process. A Gaussian\n",
    "Process, or GP, is a model that constructs a joint probability distribution over the variables,\n",
    "assuming a multivariate Gaussian distribution. As such, it is capable of effcient and effective\n",
    "summarization of a large number of functions and smooth transition as more observations are\n",
    "made available to the model.\n",
    "This smooth structure and smooth transition to new functions based on data are desirable\n",
    "properties as we sample the domain, and the multivariate Gaussian basis to the model means\n",
    "that an estimate from the model will be a mean of a distribution with a standard deviation;\n",
    "that will be helpful later in the acquisition function. As such, using a GP regression model is\n",
    "often preferred.\n",
    "\n",
    "We can fit a GP regression model using the GaussianProcessRegressor scikit-learn implementation\n",
    "from a sample of inputs (X) and noisy evaluations from the objective function\n",
    "(y). First, the model must be defined. An important aspect in defining the GP model is the\n",
    "kernel. This controls the shape of the function at specific points based on distance measures\n",
    "between actual data observations. Many different kernel functions can be used, and some may\n",
    "offer better performance for specific datasets. By default, a Radial Basis Function, or RBF, is\n",
    "used that can work well."
   ]
  },
  {
   "cell_type": "code",
   "execution_count": 153,
   "metadata": {},
   "outputs": [],
   "source": [
    "from sklearn.gaussian_process import GaussianProcessRegressor\n",
    "from warnings import catch_warnings\n",
    "from warnings import simplefilter\n",
    "\n",
    "model = GaussianProcessRegressor()"
   ]
  },
  {
   "cell_type": "code",
   "execution_count": 154,
   "metadata": {},
   "outputs": [],
   "source": [
    "X = X.reshape(-1,1)"
   ]
  },
  {
   "cell_type": "code",
   "execution_count": 155,
   "metadata": {},
   "outputs": [
    {
     "data": {
      "text/plain": [
       "GaussianProcessRegressor()"
      ]
     },
     "execution_count": 155,
     "metadata": {},
     "output_type": "execute_result"
    }
   ],
   "source": [
    "model.fit(X,y)"
   ]
  },
  {
   "cell_type": "markdown",
   "metadata": {},
   "source": [
    "The model will estimate the cost for one or more samples provided to it. The model is\n",
    "used by calling the predict() function. The result for a given sample will be a mean of the\n",
    "distribution at that point. We can also get the standard deviation of the distribution at that\n",
    "point in the function by specifying the argument return std=True;"
   ]
  },
  {
   "cell_type": "code",
   "execution_count": 163,
   "metadata": {},
   "outputs": [],
   "source": [
    "# mean,std = model.predict(X,return_std=True)\n",
    "# mean.shape,std.shape"
   ]
  },
  {
   "cell_type": "code",
   "execution_count": 131,
   "metadata": {},
   "outputs": [],
   "source": [
    "def surrogate(model,X):\n",
    "    with catch_warnings():\n",
    "        simplefilter('ignore')\n",
    "        return model.predict(X,return_std=True)"
   ]
  },
  {
   "cell_type": "markdown",
   "metadata": {},
   "source": [
    "We can call this function any time to estimate the cost of one or more samples, such as when\n",
    "we want to optimize the acquisition function in the next section. For now, it is interesting to\n",
    "see what the surrogate function looks like across the domain after it is trained on a random\n",
    "sample. We can achieve this by first fitting the GP model on a random sample of 100 data\n",
    "points and their real objective function values with noise. We can then plot a scatter plot of\n",
    "these points. Next, we can perform a grid-based sample across the input domain and estimate the cost at each point using the surrogate function and plot the result as a line. We would\n",
    "expect the surrogate function to have a crude approximation of the true non-noisy objective\n",
    "function. The plot() function below creates this plot, given the random data sample of the\n",
    "real noisy objective function and the fit model."
   ]
  },
  {
   "cell_type": "markdown",
   "metadata": {},
   "source": [
    "**Acquisition Function**\n",
    "\n",
    "The surrogate function is used to test a range of candidate samples in the domain. From these\n",
    "results, one or more candidates can be selected and evaluated with the real, and in normal\n",
    "practice, computationally expensive cost function. This involves two pieces: the search strategy\n",
    "used to navigate the domain in response to the surrogate function and the acquisition function\n",
    "that is used to interpret and score the response from the surrogate function. A simple search\n",
    "strategy, such as a random sample or grid-based sample, can be used, although it is more\n",
    "common to use a local search strategy, such as the popular BFGS algorithm. In this case, we\n",
    "will use a random search or random sample of the domain in order to keep the example simple.\n",
    "This involves first drawing a random sample of candidate samples from the domain, evaluating\n",
    "them with the acquisition function, then maximizing the acquisition function or choosing the\n",
    "candidate sample that gives the best score. The opt acquisition() function below implements\n",
    "this."
   ]
  },
  {
   "cell_type": "code",
   "execution_count": 148,
   "metadata": {},
   "outputs": [],
   "source": [
    "def opt_acquisition(X,y,model):\n",
    "    Xsamples = np.random.random(100)\n",
    "    Xsamples = Xsamples.reshape(-1,1)\n",
    "    # calculate the acquisition(X,Xsamples,model)\n",
    "    scores = acquisition(X,Xsamples,model)\n",
    "    # locate the index of the largest scores\n",
    "    ix = np.argmax(scores)\n",
    "    return Xsamples[ix,0]"
   ]
  },
  {
   "cell_type": "code",
   "execution_count": 145,
   "metadata": {},
   "outputs": [],
   "source": [
    "from scipy.stats import norm\n",
    "def acquisition(X,Xsamples,model):\n",
    "    #calculate best surrogate score found so far\n",
    "    yhat, _ = surrogate(model,X)\n",
    "#     print(_,_.shape,end=\"\\n\\n\\n\")\n",
    "    best = max(yhat)\n",
    "    #calculate mean and std via surrogate fn\n",
    "    mu,std = surrogate(model,Xsamples)\n",
    "#     print(mu)\n",
    "    mu = mu[:,0]\n",
    "    #calculate the P() of imporvement\n",
    "    probs = norm.cdf((mu-best) / (std+1e-9))\n",
    "    return probs"
   ]
  },
  {
   "cell_type": "code",
   "execution_count": 135,
   "metadata": {},
   "outputs": [],
   "source": [
    "def plot(X,y,model):\n",
    "    pyplot.scatter(X,y)\n",
    "    Xsamples = np.array(np.arange(0,1,0.001))\n",
    "    Xsamples  =Xsamples.reshape(-1,1)\n",
    "    ysamples, _ = surrogate(model,Xsamples)\n",
    "    pyplot.plot(Xsamples,ysamples)\n",
    "    pyplot.show()"
   ]
  },
  {
   "cell_type": "code",
   "execution_count": 152,
   "metadata": {
    "scrolled": true
   },
   "outputs": [
    {
     "name": "stdout",
     "output_type": "stream",
     "text": [
      ">x=0.896, f()=0.676004, actual=0.867\n",
      ">x=0.840, f()=0.481300, actual=0.027\n",
      ">x=0.613, f()=0.084280, actual=-0.050\n",
      ">x=0.903, f()=0.677441, actual=0.782\n",
      ">x=0.890, f()=0.667463, actual=0.782\n",
      ">x=0.932, f()=0.582132, actual=0.178\n",
      ">x=0.451, f()=0.096506, actual=-0.040\n",
      ">x=0.406, f()=0.043360, actual=0.090\n",
      ">x=0.024, f()=-0.038086, actual=0.223\n",
      ">x=0.887, f()=0.659290, actual=0.703\n",
      ">x=0.736, f()=0.068453, actual=0.319\n",
      ">x=0.995, f()=-0.748857, actual=0.088\n",
      ">x=0.885, f()=0.635201, actual=0.506\n",
      ">x=0.713, f()=0.062298, actual=0.316\n",
      ">x=0.909, f()=0.665237, actual=0.825\n",
      ">x=0.904, f()=0.666988, actual=0.858\n",
      ">x=0.904, f()=0.669384, actual=0.879\n",
      ">x=0.909, f()=0.672588, actual=0.771\n",
      ">x=0.916, f()=0.667789, actual=0.671\n",
      ">x=0.925, f()=0.648064, actual=0.376\n",
      ">x=0.920, f()=0.656452, actual=0.578\n",
      ">x=0.896, f()=0.662064, actual=0.932\n",
      ">x=0.375, f()=0.017296, actual=0.049\n",
      ">x=0.271, f()=-0.022469, actual=0.124\n",
      ">x=0.253, f()=-0.012495, actual=-0.077\n",
      ">x=0.142, f()=0.042936, actual=-0.035\n",
      ">x=0.909, f()=0.672192, actual=0.880\n",
      ">x=0.897, f()=0.668251, actual=0.623\n",
      ">x=0.908, f()=0.674467, actual=0.770\n",
      ">x=0.941, f()=0.567066, actual=0.511\n",
      ">x=0.908, f()=0.674997, actual=0.949\n",
      ">x=0.908, f()=0.678158, actual=0.604\n",
      ">x=0.902, f()=0.676060, actual=0.740\n",
      ">x=0.908, f()=0.677876, actual=0.693\n",
      ">x=0.895, f()=0.669531, actual=0.767\n",
      ">x=0.899, f()=0.675492, actual=0.728\n",
      ">x=0.901, f()=0.677795, actual=0.824\n",
      ">x=0.905, f()=0.681259, actual=0.918\n",
      ">x=0.908, f()=0.683668, actual=0.757\n",
      ">x=0.886, f()=0.655739, actual=0.763\n",
      ">x=0.912, f()=0.683418, actual=0.468\n",
      ">x=0.907, f()=0.683424, actual=0.886\n",
      ">x=0.903, f()=0.684790, actual=0.827\n",
      ">x=0.899, f()=0.683310, actual=0.811\n",
      ">x=0.921, f()=0.669876, actual=0.647\n",
      ">x=0.903, f()=0.687108, actual=0.707\n",
      ">x=0.901, f()=0.686255, actual=0.760\n",
      ">x=0.906, f()=0.688886, actual=0.796\n",
      ">x=0.910, f()=0.688763, actual=0.774\n",
      ">x=0.908, f()=0.690464, actual=0.770\n",
      ">x=0.871, f()=0.618153, actual=0.312\n",
      ">x=0.905, f()=0.688944, actual=0.983\n",
      ">x=0.908, f()=0.692003, actual=0.871\n",
      ">x=0.890, f()=0.673939, actual=0.821\n",
      ">x=0.910, f()=0.694201, actual=0.750\n",
      ">x=0.890, f()=0.675022, actual=0.753\n",
      ">x=0.890, f()=0.676554, actual=0.782\n",
      ">x=0.889, f()=0.675549, actual=0.658\n",
      ">x=0.907, f()=0.696777, actual=0.722\n",
      ">x=0.915, f()=0.691225, actual=0.791\n",
      ">x=0.902, f()=0.695843, actual=0.893\n",
      ">x=0.903, f()=0.698275, actual=0.659\n",
      ">x=0.907, f()=0.699280, actual=0.906\n",
      ">x=0.889, f()=0.677797, actual=0.520\n",
      ">x=0.884, f()=0.663002, actual=0.772\n",
      ">x=0.891, f()=0.683357, actual=0.872\n",
      ">x=0.905, f()=0.701847, actual=0.763\n",
      ">x=0.891, f()=0.685492, actual=0.566\n",
      ">x=0.909, f()=0.701199, actual=0.897\n",
      ">x=0.912, f()=0.701370, actual=0.781\n",
      ">x=0.906, f()=0.703796, actual=0.661\n",
      ">x=0.897, f()=0.696562, actual=0.783\n",
      ">x=0.908, f()=0.704159, actual=0.650\n",
      ">x=0.907, f()=0.703806, actual=0.752\n",
      ">x=0.898, f()=0.698675, actual=0.819\n",
      ">x=0.911, f()=0.703854, actual=0.626\n",
      ">x=0.913, f()=0.701822, actual=0.762\n",
      ">x=0.905, f()=0.704563, actual=0.821\n",
      ">x=0.912, f()=0.703642, actual=0.724\n",
      ">x=0.911, f()=0.704355, actual=0.810\n",
      ">x=0.901, f()=0.704025, actual=0.893\n",
      ">x=0.896, f()=0.699703, actual=0.640\n",
      ">x=0.949, f()=0.523577, actual=0.110\n",
      ">x=0.900, f()=0.702629, actual=0.626\n",
      ">x=0.900, f()=0.702477, actual=0.787\n",
      ">x=0.908, f()=0.704597, actual=0.810\n",
      ">x=0.894, f()=0.695461, actual=0.778\n",
      ">x=0.920, f()=0.689354, actual=0.729\n",
      ">x=0.906, f()=0.706791, actual=0.768\n",
      ">x=0.905, f()=0.707167, actual=0.748\n",
      ">x=0.931, f()=0.643740, actual=0.311\n",
      ">x=0.004, f()=-0.021280, actual=-0.098\n",
      ">x=0.939, f()=0.588461, actual=0.321\n",
      ">x=0.903, f()=0.703421, actual=0.979\n",
      ">x=0.897, f()=0.701363, actual=0.887\n",
      ">x=0.895, f()=0.700466, actual=0.615\n",
      ">x=0.908, f()=0.704988, actual=0.764\n",
      ">x=0.913, f()=0.700052, actual=0.609\n",
      ">x=0.892, f()=0.694786, actual=0.679\n",
      ">x=0.900, f()=0.704594, actual=0.783\n"
     ]
    },
    {
     "data": {
      "image/png": "[encoded data removed]",
      "text/plain": [
       "<Figure size 432x288 with 1 Axes>"
      ]
     },
     "metadata": {
      "needs_background": "light"
     },
     "output_type": "display_data"
    },
    {
     "name": "stdout",
     "output_type": "stream",
     "text": [
      "Best Result: x=0.905, y=0.983\n"
     ]
    }
   ],
   "source": [
    "#performing the optimization process\n",
    "for i in range(100):\n",
    "    # select the next point to sample\n",
    "    x = opt_acquisition(X,y,model)\n",
    "    # sample the point\n",
    "    actual = objective(x)\n",
    "    # summarize the finding for our own reporting\n",
    "    est, _ = surrogate(model,[[x]])\n",
    "    print('>x=%.3f, f()=%3f, actual=%.3f' % (x, est, actual))\n",
    "    # add the data to the dataset\n",
    "    X = np.vstack((X,[[x]]))\n",
    "    y = np.vstack((y,[[actual]]))\n",
    "    # update the model\n",
    "    model.fit(X,y)\n",
    "    \n",
    "    \n",
    "# plot all samples and the final surrogate function\n",
    "plot(X,y,model)\n",
    "# best result\n",
    "ix = np.argmax(y)\n",
    "print('Best Result: x=%.3f, y=%.3f' % (X[ix], y[ix]))"
   ]
  },
  {
   "cell_type": "markdown",
   "metadata": {},
   "source": [
    "## Hyperparameter tuning with BO in scikit-optimize"
   ]
  },
  {
   "cell_type": "code",
   "execution_count": 166,
   "metadata": {},
   "outputs": [],
   "source": [
    "from numpy import mean\n",
    "from sklearn.datasets import make_blobs\n",
    "from sklearn.model_selection import cross_val_score\n",
    "from sklearn.neighbors import KNeighborsClassifier\n",
    "from skopt.space import Integer\n",
    "from skopt.utils import use_named_args\n",
    "from skopt import gp_minimize"
   ]
  },
  {
   "cell_type": "code",
   "execution_count": 167,
   "metadata": {},
   "outputs": [],
   "source": [
    "X, y = make_blobs(n_samples=500,n_features=2,centers=3)\n",
    "model = KNeighborsClassifier() "
   ]
  },
  {
   "cell_type": "code",
   "execution_count": 168,
   "metadata": {},
   "outputs": [],
   "source": [
    "# define the space of hyperparameters to search\n",
    "search_space = [Integer(1,5, name='n_neighbors'), Integer(1,2,name='p')]"
   ]
  },
  {
   "cell_type": "code",
   "execution_count": 169,
   "metadata": {},
   "outputs": [],
   "source": [
    "@use_named_args(search_space)\n",
    "def evaluate_model(**params):\n",
    "    model.set_params(**params)\n",
    "    result = cross_val_score(model,X,y,cv=5,n_jobs=-1,scoring='accuracy')\n",
    "    estimate = mean(result)\n",
    "    return 1.0 - estimate"
   ]
  },
  {
   "cell_type": "code",
   "execution_count": 170,
   "metadata": {
    "collapsed": true
   },
   "outputs": [
    {
     "name": "stderr",
     "output_type": "stream",
     "text": [
      "C:\\Users\\Pankaj Choudhary\\Anaconda3\\envs\\tf\\lib\\site-packages\\skopt\\optimizer\\optimizer.py:449: UserWarning: The objective has been evaluated at this point before.\n",
      "  warnings.warn(\"The objective has been evaluated \"\n",
      "C:\\Users\\Pankaj Choudhary\\Anaconda3\\envs\\tf\\lib\\site-packages\\skopt\\optimizer\\optimizer.py:449: UserWarning: The objective has been evaluated at this point before.\n",
      "  warnings.warn(\"The objective has been evaluated \"\n",
      "C:\\Users\\Pankaj Choudhary\\Anaconda3\\envs\\tf\\lib\\site-packages\\skopt\\optimizer\\optimizer.py:449: UserWarning: The objective has been evaluated at this point before.\n",
      "  warnings.warn(\"The objective has been evaluated \"\n",
      "C:\\Users\\Pankaj Choudhary\\Anaconda3\\envs\\tf\\lib\\site-packages\\skopt\\optimizer\\optimizer.py:449: UserWarning: The objective has been evaluated at this point before.\n",
      "  warnings.warn(\"The objective has been evaluated \"\n",
      "C:\\Users\\Pankaj Choudhary\\Anaconda3\\envs\\tf\\lib\\site-packages\\skopt\\optimizer\\optimizer.py:449: UserWarning: The objective has been evaluated at this point before.\n",
      "  warnings.warn(\"The objective has been evaluated \"\n",
      "C:\\Users\\Pankaj Choudhary\\Anaconda3\\envs\\tf\\lib\\site-packages\\skopt\\optimizer\\optimizer.py:449: UserWarning: The objective has been evaluated at this point before.\n",
      "  warnings.warn(\"The objective has been evaluated \"\n",
      "C:\\Users\\Pankaj Choudhary\\Anaconda3\\envs\\tf\\lib\\site-packages\\skopt\\optimizer\\optimizer.py:449: UserWarning: The objective has been evaluated at this point before.\n",
      "  warnings.warn(\"The objective has been evaluated \"\n",
      "C:\\Users\\Pankaj Choudhary\\Anaconda3\\envs\\tf\\lib\\site-packages\\skopt\\optimizer\\optimizer.py:449: UserWarning: The objective has been evaluated at this point before.\n",
      "  warnings.warn(\"The objective has been evaluated \"\n",
      "C:\\Users\\Pankaj Choudhary\\Anaconda3\\envs\\tf\\lib\\site-packages\\skopt\\optimizer\\optimizer.py:449: UserWarning: The objective has been evaluated at this point before.\n",
      "  warnings.warn(\"The objective has been evaluated \"\n",
      "C:\\Users\\Pankaj Choudhary\\Anaconda3\\envs\\tf\\lib\\site-packages\\skopt\\optimizer\\optimizer.py:449: UserWarning: The objective has been evaluated at this point before.\n",
      "  warnings.warn(\"The objective has been evaluated \"\n",
      "C:\\Users\\Pankaj Choudhary\\Anaconda3\\envs\\tf\\lib\\site-packages\\skopt\\optimizer\\optimizer.py:449: UserWarning: The objective has been evaluated at this point before.\n",
      "  warnings.warn(\"The objective has been evaluated \"\n",
      "C:\\Users\\Pankaj Choudhary\\Anaconda3\\envs\\tf\\lib\\site-packages\\skopt\\optimizer\\optimizer.py:449: UserWarning: The objective has been evaluated at this point before.\n",
      "  warnings.warn(\"The objective has been evaluated \"\n",
      "C:\\Users\\Pankaj Choudhary\\Anaconda3\\envs\\tf\\lib\\site-packages\\skopt\\optimizer\\optimizer.py:449: UserWarning: The objective has been evaluated at this point before.\n",
      "  warnings.warn(\"The objective has been evaluated \"\n",
      "C:\\Users\\Pankaj Choudhary\\Anaconda3\\envs\\tf\\lib\\site-packages\\skopt\\optimizer\\optimizer.py:449: UserWarning: The objective has been evaluated at this point before.\n",
      "  warnings.warn(\"The objective has been evaluated \"\n",
      "C:\\Users\\Pankaj Choudhary\\Anaconda3\\envs\\tf\\lib\\site-packages\\skopt\\optimizer\\optimizer.py:449: UserWarning: The objective has been evaluated at this point before.\n",
      "  warnings.warn(\"The objective has been evaluated \"\n",
      "C:\\Users\\Pankaj Choudhary\\Anaconda3\\envs\\tf\\lib\\site-packages\\skopt\\optimizer\\optimizer.py:449: UserWarning: The objective has been evaluated at this point before.\n",
      "  warnings.warn(\"The objective has been evaluated \"\n",
      "C:\\Users\\Pankaj Choudhary\\Anaconda3\\envs\\tf\\lib\\site-packages\\skopt\\optimizer\\optimizer.py:449: UserWarning: The objective has been evaluated at this point before.\n",
      "  warnings.warn(\"The objective has been evaluated \"\n",
      "C:\\Users\\Pankaj Choudhary\\Anaconda3\\envs\\tf\\lib\\site-packages\\skopt\\optimizer\\optimizer.py:449: UserWarning: The objective has been evaluated at this point before.\n",
      "  warnings.warn(\"The objective has been evaluated \"\n",
      "C:\\Users\\Pankaj Choudhary\\Anaconda3\\envs\\tf\\lib\\site-packages\\skopt\\optimizer\\optimizer.py:449: UserWarning: The objective has been evaluated at this point before.\n",
      "  warnings.warn(\"The objective has been evaluated \"\n",
      "C:\\Users\\Pankaj Choudhary\\Anaconda3\\envs\\tf\\lib\\site-packages\\skopt\\optimizer\\optimizer.py:449: UserWarning: The objective has been evaluated at this point before.\n",
      "  warnings.warn(\"The objective has been evaluated \"\n",
      "C:\\Users\\Pankaj Choudhary\\Anaconda3\\envs\\tf\\lib\\site-packages\\skopt\\optimizer\\optimizer.py:449: UserWarning: The objective has been evaluated at this point before.\n",
      "  warnings.warn(\"The objective has been evaluated \"\n",
      "C:\\Users\\Pankaj Choudhary\\Anaconda3\\envs\\tf\\lib\\site-packages\\skopt\\optimizer\\optimizer.py:449: UserWarning: The objective has been evaluated at this point before.\n",
      "  warnings.warn(\"The objective has been evaluated \"\n",
      "C:\\Users\\Pankaj Choudhary\\Anaconda3\\envs\\tf\\lib\\site-packages\\skopt\\optimizer\\optimizer.py:449: UserWarning: The objective has been evaluated at this point before.\n",
      "  warnings.warn(\"The objective has been evaluated \"\n",
      "C:\\Users\\Pankaj Choudhary\\Anaconda3\\envs\\tf\\lib\\site-packages\\skopt\\optimizer\\optimizer.py:449: UserWarning: The objective has been evaluated at this point before.\n",
      "  warnings.warn(\"The objective has been evaluated \"\n",
      "C:\\Users\\Pankaj Choudhary\\Anaconda3\\envs\\tf\\lib\\site-packages\\skopt\\optimizer\\optimizer.py:449: UserWarning: The objective has been evaluated at this point before.\n",
      "  warnings.warn(\"The objective has been evaluated \"\n",
      "C:\\Users\\Pankaj Choudhary\\Anaconda3\\envs\\tf\\lib\\site-packages\\skopt\\optimizer\\optimizer.py:449: UserWarning: The objective has been evaluated at this point before.\n",
      "  warnings.warn(\"The objective has been evaluated \"\n",
      "C:\\Users\\Pankaj Choudhary\\Anaconda3\\envs\\tf\\lib\\site-packages\\skopt\\optimizer\\optimizer.py:449: UserWarning: The objective has been evaluated at this point before.\n",
      "  warnings.warn(\"The objective has been evaluated \"\n",
      "C:\\Users\\Pankaj Choudhary\\Anaconda3\\envs\\tf\\lib\\site-packages\\skopt\\optimizer\\optimizer.py:449: UserWarning: The objective has been evaluated at this point before.\n",
      "  warnings.warn(\"The objective has been evaluated \"\n",
      "C:\\Users\\Pankaj Choudhary\\Anaconda3\\envs\\tf\\lib\\site-packages\\skopt\\optimizer\\optimizer.py:449: UserWarning: The objective has been evaluated at this point before.\n",
      "  warnings.warn(\"The objective has been evaluated \"\n",
      "C:\\Users\\Pankaj Choudhary\\Anaconda3\\envs\\tf\\lib\\site-packages\\skopt\\optimizer\\optimizer.py:449: UserWarning: The objective has been evaluated at this point before.\n",
      "  warnings.warn(\"The objective has been evaluated \"\n",
      "C:\\Users\\Pankaj Choudhary\\Anaconda3\\envs\\tf\\lib\\site-packages\\skopt\\optimizer\\optimizer.py:449: UserWarning: The objective has been evaluated at this point before.\n",
      "  warnings.warn(\"The objective has been evaluated \"\n",
      "C:\\Users\\Pankaj Choudhary\\Anaconda3\\envs\\tf\\lib\\site-packages\\skopt\\optimizer\\optimizer.py:449: UserWarning: The objective has been evaluated at this point before.\n",
      "  warnings.warn(\"The objective has been evaluated \"\n",
      "C:\\Users\\Pankaj Choudhary\\Anaconda3\\envs\\tf\\lib\\site-packages\\skopt\\optimizer\\optimizer.py:449: UserWarning: The objective has been evaluated at this point before.\n",
      "  warnings.warn(\"The objective has been evaluated \"\n",
      "C:\\Users\\Pankaj Choudhary\\Anaconda3\\envs\\tf\\lib\\site-packages\\skopt\\optimizer\\optimizer.py:449: UserWarning: The objective has been evaluated at this point before.\n",
      "  warnings.warn(\"The objective has been evaluated \"\n",
      "C:\\Users\\Pankaj Choudhary\\Anaconda3\\envs\\tf\\lib\\site-packages\\skopt\\optimizer\\optimizer.py:449: UserWarning: The objective has been evaluated at this point before.\n",
      "  warnings.warn(\"The objective has been evaluated \"\n",
      "C:\\Users\\Pankaj Choudhary\\Anaconda3\\envs\\tf\\lib\\site-packages\\skopt\\optimizer\\optimizer.py:449: UserWarning: The objective has been evaluated at this point before.\n",
      "  warnings.warn(\"The objective has been evaluated \"\n",
      "C:\\Users\\Pankaj Choudhary\\Anaconda3\\envs\\tf\\lib\\site-packages\\skopt\\optimizer\\optimizer.py:449: UserWarning: The objective has been evaluated at this point before.\n",
      "  warnings.warn(\"The objective has been evaluated \"\n",
      "C:\\Users\\Pankaj Choudhary\\Anaconda3\\envs\\tf\\lib\\site-packages\\skopt\\optimizer\\optimizer.py:449: UserWarning: The objective has been evaluated at this point before.\n",
      "  warnings.warn(\"The objective has been evaluated \"\n"
     ]
    },
    {
     "name": "stderr",
     "output_type": "stream",
     "text": [
      "C:\\Users\\Pankaj Choudhary\\Anaconda3\\envs\\tf\\lib\\site-packages\\skopt\\optimizer\\optimizer.py:449: UserWarning: The objective has been evaluated at this point before.\n",
      "  warnings.warn(\"The objective has been evaluated \"\n",
      "C:\\Users\\Pankaj Choudhary\\Anaconda3\\envs\\tf\\lib\\site-packages\\skopt\\optimizer\\optimizer.py:449: UserWarning: The objective has been evaluated at this point before.\n",
      "  warnings.warn(\"The objective has been evaluated \"\n",
      "C:\\Users\\Pankaj Choudhary\\Anaconda3\\envs\\tf\\lib\\site-packages\\skopt\\optimizer\\optimizer.py:449: UserWarning: The objective has been evaluated at this point before.\n",
      "  warnings.warn(\"The objective has been evaluated \"\n",
      "C:\\Users\\Pankaj Choudhary\\Anaconda3\\envs\\tf\\lib\\site-packages\\skopt\\optimizer\\optimizer.py:449: UserWarning: The objective has been evaluated at this point before.\n",
      "  warnings.warn(\"The objective has been evaluated \"\n",
      "C:\\Users\\Pankaj Choudhary\\Anaconda3\\envs\\tf\\lib\\site-packages\\skopt\\optimizer\\optimizer.py:449: UserWarning: The objective has been evaluated at this point before.\n",
      "  warnings.warn(\"The objective has been evaluated \"\n",
      "C:\\Users\\Pankaj Choudhary\\Anaconda3\\envs\\tf\\lib\\site-packages\\skopt\\optimizer\\optimizer.py:449: UserWarning: The objective has been evaluated at this point before.\n",
      "  warnings.warn(\"The objective has been evaluated \"\n",
      "C:\\Users\\Pankaj Choudhary\\Anaconda3\\envs\\tf\\lib\\site-packages\\skopt\\optimizer\\optimizer.py:449: UserWarning: The objective has been evaluated at this point before.\n",
      "  warnings.warn(\"The objective has been evaluated \"\n",
      "C:\\Users\\Pankaj Choudhary\\Anaconda3\\envs\\tf\\lib\\site-packages\\skopt\\optimizer\\optimizer.py:449: UserWarning: The objective has been evaluated at this point before.\n",
      "  warnings.warn(\"The objective has been evaluated \"\n",
      "C:\\Users\\Pankaj Choudhary\\Anaconda3\\envs\\tf\\lib\\site-packages\\skopt\\optimizer\\optimizer.py:449: UserWarning: The objective has been evaluated at this point before.\n",
      "  warnings.warn(\"The objective has been evaluated \"\n",
      "C:\\Users\\Pankaj Choudhary\\Anaconda3\\envs\\tf\\lib\\site-packages\\skopt\\optimizer\\optimizer.py:449: UserWarning: The objective has been evaluated at this point before.\n",
      "  warnings.warn(\"The objective has been evaluated \"\n",
      "C:\\Users\\Pankaj Choudhary\\Anaconda3\\envs\\tf\\lib\\site-packages\\skopt\\optimizer\\optimizer.py:449: UserWarning: The objective has been evaluated at this point before.\n",
      "  warnings.warn(\"The objective has been evaluated \"\n",
      "C:\\Users\\Pankaj Choudhary\\Anaconda3\\envs\\tf\\lib\\site-packages\\skopt\\optimizer\\optimizer.py:449: UserWarning: The objective has been evaluated at this point before.\n",
      "  warnings.warn(\"The objective has been evaluated \"\n",
      "C:\\Users\\Pankaj Choudhary\\Anaconda3\\envs\\tf\\lib\\site-packages\\skopt\\optimizer\\optimizer.py:449: UserWarning: The objective has been evaluated at this point before.\n",
      "  warnings.warn(\"The objective has been evaluated \"\n",
      "C:\\Users\\Pankaj Choudhary\\Anaconda3\\envs\\tf\\lib\\site-packages\\skopt\\optimizer\\optimizer.py:449: UserWarning: The objective has been evaluated at this point before.\n",
      "  warnings.warn(\"The objective has been evaluated \"\n",
      "C:\\Users\\Pankaj Choudhary\\Anaconda3\\envs\\tf\\lib\\site-packages\\skopt\\optimizer\\optimizer.py:449: UserWarning: The objective has been evaluated at this point before.\n",
      "  warnings.warn(\"The objective has been evaluated \"\n",
      "C:\\Users\\Pankaj Choudhary\\Anaconda3\\envs\\tf\\lib\\site-packages\\skopt\\optimizer\\optimizer.py:449: UserWarning: The objective has been evaluated at this point before.\n",
      "  warnings.warn(\"The objective has been evaluated \"\n",
      "C:\\Users\\Pankaj Choudhary\\Anaconda3\\envs\\tf\\lib\\site-packages\\skopt\\optimizer\\optimizer.py:449: UserWarning: The objective has been evaluated at this point before.\n",
      "  warnings.warn(\"The objective has been evaluated \"\n",
      "C:\\Users\\Pankaj Choudhary\\Anaconda3\\envs\\tf\\lib\\site-packages\\skopt\\optimizer\\optimizer.py:449: UserWarning: The objective has been evaluated at this point before.\n",
      "  warnings.warn(\"The objective has been evaluated \"\n",
      "C:\\Users\\Pankaj Choudhary\\Anaconda3\\envs\\tf\\lib\\site-packages\\skopt\\optimizer\\optimizer.py:449: UserWarning: The objective has been evaluated at this point before.\n",
      "  warnings.warn(\"The objective has been evaluated \"\n",
      "C:\\Users\\Pankaj Choudhary\\Anaconda3\\envs\\tf\\lib\\site-packages\\skopt\\optimizer\\optimizer.py:449: UserWarning: The objective has been evaluated at this point before.\n",
      "  warnings.warn(\"The objective has been evaluated \"\n",
      "C:\\Users\\Pankaj Choudhary\\Anaconda3\\envs\\tf\\lib\\site-packages\\skopt\\optimizer\\optimizer.py:449: UserWarning: The objective has been evaluated at this point before.\n",
      "  warnings.warn(\"The objective has been evaluated \"\n",
      "C:\\Users\\Pankaj Choudhary\\Anaconda3\\envs\\tf\\lib\\site-packages\\skopt\\optimizer\\optimizer.py:449: UserWarning: The objective has been evaluated at this point before.\n",
      "  warnings.warn(\"The objective has been evaluated \"\n",
      "C:\\Users\\Pankaj Choudhary\\Anaconda3\\envs\\tf\\lib\\site-packages\\skopt\\optimizer\\optimizer.py:449: UserWarning: The objective has been evaluated at this point before.\n",
      "  warnings.warn(\"The objective has been evaluated \"\n",
      "C:\\Users\\Pankaj Choudhary\\Anaconda3\\envs\\tf\\lib\\site-packages\\skopt\\optimizer\\optimizer.py:449: UserWarning: The objective has been evaluated at this point before.\n",
      "  warnings.warn(\"The objective has been evaluated \"\n",
      "C:\\Users\\Pankaj Choudhary\\Anaconda3\\envs\\tf\\lib\\site-packages\\skopt\\optimizer\\optimizer.py:449: UserWarning: The objective has been evaluated at this point before.\n",
      "  warnings.warn(\"The objective has been evaluated \"\n",
      "C:\\Users\\Pankaj Choudhary\\Anaconda3\\envs\\tf\\lib\\site-packages\\skopt\\optimizer\\optimizer.py:449: UserWarning: The objective has been evaluated at this point before.\n",
      "  warnings.warn(\"The objective has been evaluated \"\n",
      "C:\\Users\\Pankaj Choudhary\\Anaconda3\\envs\\tf\\lib\\site-packages\\skopt\\optimizer\\optimizer.py:449: UserWarning: The objective has been evaluated at this point before.\n",
      "  warnings.warn(\"The objective has been evaluated \"\n",
      "C:\\Users\\Pankaj Choudhary\\Anaconda3\\envs\\tf\\lib\\site-packages\\skopt\\optimizer\\optimizer.py:449: UserWarning: The objective has been evaluated at this point before.\n",
      "  warnings.warn(\"The objective has been evaluated \"\n",
      "C:\\Users\\Pankaj Choudhary\\Anaconda3\\envs\\tf\\lib\\site-packages\\skopt\\optimizer\\optimizer.py:449: UserWarning: The objective has been evaluated at this point before.\n",
      "  warnings.warn(\"The objective has been evaluated \"\n",
      "C:\\Users\\Pankaj Choudhary\\Anaconda3\\envs\\tf\\lib\\site-packages\\skopt\\optimizer\\optimizer.py:449: UserWarning: The objective has been evaluated at this point before.\n",
      "  warnings.warn(\"The objective has been evaluated \"\n",
      "C:\\Users\\Pankaj Choudhary\\Anaconda3\\envs\\tf\\lib\\site-packages\\skopt\\optimizer\\optimizer.py:449: UserWarning: The objective has been evaluated at this point before.\n",
      "  warnings.warn(\"The objective has been evaluated \"\n",
      "C:\\Users\\Pankaj Choudhary\\Anaconda3\\envs\\tf\\lib\\site-packages\\skopt\\optimizer\\optimizer.py:449: UserWarning: The objective has been evaluated at this point before.\n",
      "  warnings.warn(\"The objective has been evaluated \"\n",
      "C:\\Users\\Pankaj Choudhary\\Anaconda3\\envs\\tf\\lib\\site-packages\\skopt\\optimizer\\optimizer.py:449: UserWarning: The objective has been evaluated at this point before.\n",
      "  warnings.warn(\"The objective has been evaluated \"\n",
      "C:\\Users\\Pankaj Choudhary\\Anaconda3\\envs\\tf\\lib\\site-packages\\skopt\\optimizer\\optimizer.py:449: UserWarning: The objective has been evaluated at this point before.\n",
      "  warnings.warn(\"The objective has been evaluated \"\n",
      "C:\\Users\\Pankaj Choudhary\\Anaconda3\\envs\\tf\\lib\\site-packages\\skopt\\optimizer\\optimizer.py:449: UserWarning: The objective has been evaluated at this point before.\n",
      "  warnings.warn(\"The objective has been evaluated \"\n",
      "C:\\Users\\Pankaj Choudhary\\Anaconda3\\envs\\tf\\lib\\site-packages\\skopt\\optimizer\\optimizer.py:449: UserWarning: The objective has been evaluated at this point before.\n",
      "  warnings.warn(\"The objective has been evaluated \"\n",
      "C:\\Users\\Pankaj Choudhary\\Anaconda3\\envs\\tf\\lib\\site-packages\\skopt\\optimizer\\optimizer.py:449: UserWarning: The objective has been evaluated at this point before.\n",
      "  warnings.warn(\"The objective has been evaluated \"\n",
      "C:\\Users\\Pankaj Choudhary\\Anaconda3\\envs\\tf\\lib\\site-packages\\skopt\\optimizer\\optimizer.py:449: UserWarning: The objective has been evaluated at this point before.\n",
      "  warnings.warn(\"The objective has been evaluated \"\n"
     ]
    },
    {
     "name": "stderr",
     "output_type": "stream",
     "text": [
      "C:\\Users\\Pankaj Choudhary\\Anaconda3\\envs\\tf\\lib\\site-packages\\skopt\\optimizer\\optimizer.py:449: UserWarning: The objective has been evaluated at this point before.\n",
      "  warnings.warn(\"The objective has been evaluated \"\n",
      "C:\\Users\\Pankaj Choudhary\\Anaconda3\\envs\\tf\\lib\\site-packages\\skopt\\optimizer\\optimizer.py:449: UserWarning: The objective has been evaluated at this point before.\n",
      "  warnings.warn(\"The objective has been evaluated \"\n",
      "C:\\Users\\Pankaj Choudhary\\Anaconda3\\envs\\tf\\lib\\site-packages\\skopt\\optimizer\\optimizer.py:449: UserWarning: The objective has been evaluated at this point before.\n",
      "  warnings.warn(\"The objective has been evaluated \"\n",
      "C:\\Users\\Pankaj Choudhary\\Anaconda3\\envs\\tf\\lib\\site-packages\\skopt\\optimizer\\optimizer.py:449: UserWarning: The objective has been evaluated at this point before.\n",
      "  warnings.warn(\"The objective has been evaluated \"\n",
      "C:\\Users\\Pankaj Choudhary\\Anaconda3\\envs\\tf\\lib\\site-packages\\skopt\\optimizer\\optimizer.py:449: UserWarning: The objective has been evaluated at this point before.\n",
      "  warnings.warn(\"The objective has been evaluated \"\n",
      "C:\\Users\\Pankaj Choudhary\\Anaconda3\\envs\\tf\\lib\\site-packages\\skopt\\optimizer\\optimizer.py:449: UserWarning: The objective has been evaluated at this point before.\n",
      "  warnings.warn(\"The objective has been evaluated \"\n",
      "C:\\Users\\Pankaj Choudhary\\Anaconda3\\envs\\tf\\lib\\site-packages\\skopt\\optimizer\\optimizer.py:449: UserWarning: The objective has been evaluated at this point before.\n",
      "  warnings.warn(\"The objective has been evaluated \"\n",
      "C:\\Users\\Pankaj Choudhary\\Anaconda3\\envs\\tf\\lib\\site-packages\\skopt\\optimizer\\optimizer.py:449: UserWarning: The objective has been evaluated at this point before.\n",
      "  warnings.warn(\"The objective has been evaluated \"\n",
      "C:\\Users\\Pankaj Choudhary\\Anaconda3\\envs\\tf\\lib\\site-packages\\skopt\\optimizer\\optimizer.py:449: UserWarning: The objective has been evaluated at this point before.\n",
      "  warnings.warn(\"The objective has been evaluated \"\n",
      "C:\\Users\\Pankaj Choudhary\\Anaconda3\\envs\\tf\\lib\\site-packages\\skopt\\optimizer\\optimizer.py:449: UserWarning: The objective has been evaluated at this point before.\n",
      "  warnings.warn(\"The objective has been evaluated \"\n",
      "C:\\Users\\Pankaj Choudhary\\Anaconda3\\envs\\tf\\lib\\site-packages\\skopt\\optimizer\\optimizer.py:449: UserWarning: The objective has been evaluated at this point before.\n",
      "  warnings.warn(\"The objective has been evaluated \"\n"
     ]
    }
   ],
   "source": [
    "result = gp_minimize(evaluate_model,search_space)"
   ]
  },
  {
   "cell_type": "code",
   "execution_count": 171,
   "metadata": {},
   "outputs": [
    {
     "name": "stdout",
     "output_type": "stream",
     "text": [
      "Best accurcay: 0.946\n"
     ]
    }
   ],
   "source": [
    "print(\"Best accurcay: %.3f\" % (1.0 - result.fun))"
   ]
  },
  {
   "cell_type": "code",
   "execution_count": 172,
   "metadata": {},
   "outputs": [
    {
     "name": "stdout",
     "output_type": "stream",
     "text": [
      "Best Parameters: n_neighbors=5, p=1\n"
     ]
    }
   ],
   "source": [
    "print('Best Parameters: n_neighbors=%d, p=%d' % (result.x[0], result.x[1]))"
   ]
  },
  {
   "cell_type": "code",
   "execution_count": null,
   "metadata": {},
   "outputs": [],
   "source": []
  }
 ],
 "metadata": {
  "kernelspec": {
   "display_name": "Python 3",
   "language": "python",
   "name": "python3"
  },
  "language_info": {
   "codemirror_mode": {
    "name": "ipython",
    "version": 3
   },
   "file_extension": ".py",
   "mimetype": "text/x-python",
   "name": "python",
   "nbconvert_exporter": "python",
   "pygments_lexer": "ipython3",
   "version": "3.7.9"
  }
 },
 "nbformat": 4,
 "nbformat_minor": 4
}
